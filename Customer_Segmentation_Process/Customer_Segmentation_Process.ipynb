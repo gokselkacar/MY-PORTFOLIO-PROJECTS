{
 "cells": [
  {
   "cell_type": "code",
   "execution_count": 1,
   "id": "2c5ce464-e22f-4f05-a402-ca2a0f0e8a57",
   "metadata": {},
   "outputs": [],
   "source": [
    "## CUSTOMER SEGMENTATION PROCESS (RULE BASED CLASSIFICATION) ##"
   ]
  },
  {
   "cell_type": "code",
   "execution_count": 2,
   "id": "4e93efde-01d5-45eb-842f-5ce47999a173",
   "metadata": {},
   "outputs": [],
   "source": [
    "# Customer segmentation is the process of dividing customers with similar characteristics, needs, and behaviors into groups, \n",
    "# and creating marketing strategies specific to these groups.\n",
    "\n",
    "# The purpose of segmentation is to determine which segment new customers are in, \n",
    "# to support marketing strategies, and to calculate the average return expectations of these customers."
   ]
  },
  {
   "cell_type": "code",
   "execution_count": 3,
   "id": "6595d7e9-ab78-4cc9-9533-681b840dfb0b",
   "metadata": {},
   "outputs": [],
   "source": [
    "# Business Problem #\n",
    "\n",
    "# A gaming company aims to create new level-based customer definitions (personas) based on customer characteristics,\n",
    "# and segment customers based on these definitions.\n",
    "\n",
    "# They want to estimate the average revenue return for the company from potential new customers based on these segments.\n",
    "\n",
    "# For example the average return for a 25-year-old male user from Turkey who uses IOS is aimed to be determined."
   ]
  },
  {
   "cell_type": "code",
   "execution_count": 4,
   "id": "097ccf5b-2845-416d-be23-a6b5d0035be4",
   "metadata": {},
   "outputs": [],
   "source": [
    "# Dataset Story #\n",
    "\n",
    "# The Persona.csv dataset contains prices for products from an international gaming company and some demographic information about users who purchased these products.\n",
    "# The dataset contains one record for each sales transaction, meaning the table is not deduplicated.\n",
    "# This means that a user with certain demographics may have made multiple purchases.\n",
    "\n",
    "# Price: Amount spent by the customer\n",
    "# Source: Type of device used by the customer\n",
    "# Sex: Gender of the customer\n",
    "# Country: Country of the customer\n",
    "# Age: Age of the customer"
   ]
  },
  {
   "cell_type": "code",
   "execution_count": 5,
   "id": "7e57c035-3ed0-4262-96cf-9620c24fbb53",
   "metadata": {},
   "outputs": [],
   "source": [
    "# Project Stages #\n",
    "\n",
    "# Review and understand the dataset.\n",
    "# Data manipulation.\n",
    "# Creating segments according to customer definitions (Segmentation process).\n",
    "# Making an average income estimate for each segment.\n",
    "# Classifying new customers according to the results and estimating how much income they can bring.\n",
    "\n",
    "# 1) Grouping the data frame according to COUNTRY, SOURCE, SEX, AGE, and seeing average prices.\n",
    "# 2) Creating a new age category column named AGE_CAT\n",
    "# 3) Creating a new persona definition column named CUSTOMERS_LEVEL_BASED (e.g. FRA_ANDROID_FEMALE_24_30)\n",
    "# 4) Creating a new SEGMENT column according to price averages (with A, B, C, D segments)\n",
    "# 5) Determining segments for new/potential customers and making income estimates."
   ]
  },
  {
   "cell_type": "code",
   "execution_count": 6,
   "id": "94b5b5e6-91f2-4ef7-999e-3ff5b81588c1",
   "metadata": {},
   "outputs": [],
   "source": [
    "## Project Steps ##"
   ]
  },
  {
   "cell_type": "code",
   "execution_count": 7,
   "id": "6f659d67-f4b8-40cc-ad91-d7ba365fa58a",
   "metadata": {},
   "outputs": [],
   "source": [
    "# 1) Importing the libraries, persona.csv file and displaying general information about the data set."
   ]
  },
  {
   "cell_type": "code",
   "execution_count": 8,
   "id": "248ea539-2891-4636-9acf-952295cbb082",
   "metadata": {},
   "outputs": [],
   "source": [
    "import pandas as pd\n",
    "import seaborn as sns"
   ]
  },
  {
   "cell_type": "code",
   "execution_count": 9,
   "id": "6739a5c7-4a94-4bcc-b2b7-7a4d333c3d57",
   "metadata": {},
   "outputs": [],
   "source": [
    "pd.set_option(\"display.max_columns\", None)  \n",
    "pd.set_option(\"display.width\", 500)         \n",
    "pd.set_option(\"display.precision\", 2)   "
   ]
  },
  {
   "cell_type": "code",
   "execution_count": 10,
   "id": "1edfc27f-f753-499c-8a83-8648cd9b156c",
   "metadata": {},
   "outputs": [],
   "source": [
    "df = pd.read_csv('persona.csv')"
   ]
  },
  {
   "cell_type": "code",
   "execution_count": 11,
   "id": "69bf0ce4-3d6b-4a5c-bada-88c8173c668b",
   "metadata": {},
   "outputs": [],
   "source": [
    "# Functional Data Exploration\n",
    "\n",
    "def explore_dataframe(dataframe, head=5):\n",
    "    print(\"###################### First 5 Rows ######################\")\n",
    "    print(dataframe.head(head))\n",
    "    print(\"###################### Last 5 Rows ######################\")\n",
    "    print(dataframe.tail(head))\n",
    "    print(\"###################### Shape: Rows x Columns ######################\")\n",
    "    print(dataframe.shape)\n",
    "    print(\"###################### General Info ######################\")\n",
    "    print(dataframe.info())\n",
    "    print(\"###################### Null Values ######################\")\n",
    "    print(dataframe.isnull().sum().sort_values(ascending=False))\n",
    "    print(\"###################### Statistical Info ######################\")\n",
    "    print(dataframe.describe().T)"
   ]
  },
  {
   "cell_type": "code",
   "execution_count": 12,
   "id": "a261969a-59ba-4709-b850-27b4115d84c8",
   "metadata": {},
   "outputs": [
    {
     "name": "stdout",
     "output_type": "stream",
     "text": [
      "###################### First 5 Rows ######################\n",
      "   PRICE   SOURCE   SEX COUNTRY  AGE\n",
      "0     39  android  male     bra   17\n",
      "1     39  android  male     bra   17\n",
      "2     49  android  male     bra   17\n",
      "3     29  android  male     tur   17\n",
      "4     49  android  male     tur   17\n",
      "###################### Last 5 Rows ######################\n",
      "      PRICE   SOURCE     SEX COUNTRY  AGE\n",
      "4995     29  android  female     bra   31\n",
      "4996     29  android  female     bra   31\n",
      "4997     29  android  female     bra   31\n",
      "4998     39  android  female     bra   31\n",
      "4999     29  android  female     bra   31\n",
      "###################### Shape: Rows x Columns ######################\n",
      "(5000, 5)\n",
      "###################### General Info ######################\n",
      "<class 'pandas.core.frame.DataFrame'>\n",
      "Index: 5000 entries, 0 to 4999\n",
      "Data columns (total 5 columns):\n",
      " #   Column   Non-Null Count  Dtype \n",
      "---  ------   --------------  ----- \n",
      " 0   PRICE    5000 non-null   int64 \n",
      " 1   SOURCE   5000 non-null   object\n",
      " 2   SEX      5000 non-null   object\n",
      " 3   COUNTRY  5000 non-null   object\n",
      " 4   AGE      5000 non-null   int64 \n",
      "dtypes: int64(2), object(3)\n",
      "memory usage: 234.4+ KB\n",
      "None\n",
      "###################### Null Values ######################\n",
      "PRICE      0\n",
      "SOURCE     0\n",
      "SEX        0\n",
      "COUNTRY    0\n",
      "AGE        0\n",
      "dtype: int64\n",
      "###################### Statistical Info ######################\n",
      "        count   mean    std   min   25%   50%   75%   max\n",
      "PRICE  5000.0  34.13  12.46   9.0  29.0  39.0  39.0  59.0\n",
      "AGE    5000.0  23.58   9.00  15.0  17.0  21.0  27.0  66.0\n"
     ]
    }
   ],
   "source": [
    "explore_dataframe(df)"
   ]
  },
  {
   "cell_type": "code",
   "execution_count": 13,
   "id": "3cc98ee6-038e-4c6a-a507-285fc71a2f57",
   "metadata": {},
   "outputs": [
    {
     "data": {
      "text/html": [
       "<div>\n",
       "<style scoped>\n",
       "    .dataframe tbody tr th:only-of-type {\n",
       "        vertical-align: middle;\n",
       "    }\n",
       "\n",
       "    .dataframe tbody tr th {\n",
       "        vertical-align: top;\n",
       "    }\n",
       "\n",
       "    .dataframe thead th {\n",
       "        text-align: right;\n",
       "    }\n",
       "</style>\n",
       "<table border=\"1\" class=\"dataframe\">\n",
       "  <thead>\n",
       "    <tr style=\"text-align: right;\">\n",
       "      <th></th>\n",
       "      <th>PRICE</th>\n",
       "      <th>SOURCE</th>\n",
       "      <th>SEX</th>\n",
       "      <th>COUNTRY</th>\n",
       "      <th>AGE</th>\n",
       "    </tr>\n",
       "  </thead>\n",
       "  <tbody>\n",
       "    <tr>\n",
       "      <th>2536</th>\n",
       "      <td>29</td>\n",
       "      <td>android</td>\n",
       "      <td>male</td>\n",
       "      <td>usa</td>\n",
       "      <td>41</td>\n",
       "    </tr>\n",
       "    <tr>\n",
       "      <th>4431</th>\n",
       "      <td>29</td>\n",
       "      <td>ios</td>\n",
       "      <td>male</td>\n",
       "      <td>bra</td>\n",
       "      <td>44</td>\n",
       "    </tr>\n",
       "    <tr>\n",
       "      <th>2813</th>\n",
       "      <td>19</td>\n",
       "      <td>ios</td>\n",
       "      <td>female</td>\n",
       "      <td>bra</td>\n",
       "      <td>24</td>\n",
       "    </tr>\n",
       "    <tr>\n",
       "      <th>2758</th>\n",
       "      <td>39</td>\n",
       "      <td>ios</td>\n",
       "      <td>female</td>\n",
       "      <td>deu</td>\n",
       "      <td>16</td>\n",
       "    </tr>\n",
       "    <tr>\n",
       "      <th>3283</th>\n",
       "      <td>29</td>\n",
       "      <td>android</td>\n",
       "      <td>male</td>\n",
       "      <td>usa</td>\n",
       "      <td>22</td>\n",
       "    </tr>\n",
       "  </tbody>\n",
       "</table>\n",
       "</div>"
      ],
      "text/plain": [
       "      PRICE   SOURCE     SEX COUNTRY  AGE\n",
       "2536     29  android    male     usa   41\n",
       "4431     29      ios    male     bra   44\n",
       "2813     19      ios  female     bra   24\n",
       "2758     39      ios  female     deu   16\n",
       "3283     29  android    male     usa   22"
      ]
     },
     "execution_count": 13,
     "metadata": {},
     "output_type": "execute_result"
    }
   ],
   "source": [
    "df.sample(5)"
   ]
  },
  {
   "cell_type": "code",
   "execution_count": 14,
   "id": "b4807665-0a45-4a90-8c56-d6632d98999b",
   "metadata": {},
   "outputs": [],
   "source": [
    "# Unique SORUCES and value counts."
   ]
  },
  {
   "cell_type": "code",
   "execution_count": 15,
   "id": "cc559d77-9fa9-42a5-b1ea-94ea79d75edc",
   "metadata": {},
   "outputs": [
    {
     "data": {
      "text/plain": [
       "array(['android', 'ios'], dtype=object)"
      ]
     },
     "execution_count": 15,
     "metadata": {},
     "output_type": "execute_result"
    }
   ],
   "source": [
    "df[\"SOURCE\"].unique()"
   ]
  },
  {
   "cell_type": "code",
   "execution_count": 16,
   "id": "26076247-0300-4af2-be6e-a981c4f32b44",
   "metadata": {},
   "outputs": [
    {
     "data": {
      "text/plain": [
       "2"
      ]
     },
     "execution_count": 16,
     "metadata": {},
     "output_type": "execute_result"
    }
   ],
   "source": [
    "df[\"SOURCE\"].nunique()"
   ]
  },
  {
   "cell_type": "code",
   "execution_count": 17,
   "id": "cc3b29b7-e931-4059-bd8d-2e9945b04026",
   "metadata": {},
   "outputs": [
    {
     "data": {
      "text/plain": [
       "SOURCE\n",
       "android    2974\n",
       "ios        2026\n",
       "Name: count, dtype: int64"
      ]
     },
     "execution_count": 17,
     "metadata": {},
     "output_type": "execute_result"
    }
   ],
   "source": [
    "df[\"SOURCE\"].value_counts()"
   ]
  },
  {
   "cell_type": "code",
   "execution_count": 18,
   "id": "092c6688-5b98-4431-80f2-a549832a6cb1",
   "metadata": {},
   "outputs": [],
   "source": [
    "# Unique PRICES"
   ]
  },
  {
   "cell_type": "code",
   "execution_count": 19,
   "id": "6f2b2c23-41d0-4b93-a572-6fa4d79f7a54",
   "metadata": {},
   "outputs": [
    {
     "data": {
      "text/plain": [
       "array([39, 49, 29, 19, 59,  9], dtype=int64)"
      ]
     },
     "execution_count": 19,
     "metadata": {},
     "output_type": "execute_result"
    }
   ],
   "source": [
    "df[\"PRICE\"].unique()"
   ]
  },
  {
   "cell_type": "code",
   "execution_count": 20,
   "id": "4596a750-f181-4657-bdab-653459c1ffb9",
   "metadata": {},
   "outputs": [
    {
     "data": {
      "text/plain": [
       "6"
      ]
     },
     "execution_count": 20,
     "metadata": {},
     "output_type": "execute_result"
    }
   ],
   "source": [
    "df[\"PRICE\"].nunique()"
   ]
  },
  {
   "cell_type": "code",
   "execution_count": 21,
   "id": "f6ee7c8b-6211-42b3-a584-d9c9ac9203bf",
   "metadata": {},
   "outputs": [],
   "source": [
    "# Sales made based on PRICES"
   ]
  },
  {
   "cell_type": "code",
   "execution_count": 22,
   "id": "f2e54863-1e33-486b-96d4-1c3088af1f52",
   "metadata": {},
   "outputs": [
    {
     "data": {
      "text/plain": [
       "PRICE\n",
       "29    1305\n",
       "39    1260\n",
       "49    1031\n",
       "19     992\n",
       "59     212\n",
       "9      200\n",
       "Name: count, dtype: int64"
      ]
     },
     "execution_count": 22,
     "metadata": {},
     "output_type": "execute_result"
    }
   ],
   "source": [
    "df[\"PRICE\"].value_counts()"
   ]
  },
  {
   "cell_type": "code",
   "execution_count": 23,
   "id": "c4ecfd5a-fbe4-43b0-8d69-c3f2b265422d",
   "metadata": {},
   "outputs": [
    {
     "data": {
      "text/html": [
       "<div>\n",
       "<style scoped>\n",
       "    .dataframe tbody tr th:only-of-type {\n",
       "        vertical-align: middle;\n",
       "    }\n",
       "\n",
       "    .dataframe tbody tr th {\n",
       "        vertical-align: top;\n",
       "    }\n",
       "\n",
       "    .dataframe thead th {\n",
       "        text-align: right;\n",
       "    }\n",
       "</style>\n",
       "<table border=\"1\" class=\"dataframe\">\n",
       "  <thead>\n",
       "    <tr style=\"text-align: right;\">\n",
       "      <th></th>\n",
       "      <th>PRICE</th>\n",
       "    </tr>\n",
       "    <tr>\n",
       "      <th>PRICE</th>\n",
       "      <th></th>\n",
       "    </tr>\n",
       "  </thead>\n",
       "  <tbody>\n",
       "    <tr>\n",
       "      <th>9</th>\n",
       "      <td>200</td>\n",
       "    </tr>\n",
       "    <tr>\n",
       "      <th>19</th>\n",
       "      <td>992</td>\n",
       "    </tr>\n",
       "    <tr>\n",
       "      <th>29</th>\n",
       "      <td>1305</td>\n",
       "    </tr>\n",
       "    <tr>\n",
       "      <th>39</th>\n",
       "      <td>1260</td>\n",
       "    </tr>\n",
       "    <tr>\n",
       "      <th>49</th>\n",
       "      <td>1031</td>\n",
       "    </tr>\n",
       "    <tr>\n",
       "      <th>59</th>\n",
       "      <td>212</td>\n",
       "    </tr>\n",
       "  </tbody>\n",
       "</table>\n",
       "</div>"
      ],
      "text/plain": [
       "       PRICE\n",
       "PRICE       \n",
       "9        200\n",
       "19       992\n",
       "29      1305\n",
       "39      1260\n",
       "49      1031\n",
       "59       212"
      ]
     },
     "execution_count": 23,
     "metadata": {},
     "output_type": "execute_result"
    }
   ],
   "source": [
    "df.groupby(\"PRICE\").agg({\"PRICE\": \"count\"})"
   ]
  },
  {
   "cell_type": "code",
   "execution_count": 24,
   "id": "e27807a9-250a-4879-a9e3-a7c30c08eecd",
   "metadata": {},
   "outputs": [],
   "source": [
    "# Sales by COUNTRY"
   ]
  },
  {
   "cell_type": "code",
   "execution_count": 25,
   "id": "da8fb37f-f65a-415c-9b6d-39b188f44ff3",
   "metadata": {},
   "outputs": [
    {
     "data": {
      "text/plain": [
       "COUNTRY\n",
       "usa    2065\n",
       "bra    1496\n",
       "deu     455\n",
       "tur     451\n",
       "fra     303\n",
       "can     230\n",
       "Name: count, dtype: int64"
      ]
     },
     "execution_count": 25,
     "metadata": {},
     "output_type": "execute_result"
    }
   ],
   "source": [
    "df[\"COUNTRY\"].value_counts()"
   ]
  },
  {
   "cell_type": "code",
   "execution_count": 26,
   "id": "d8fddf9d-5fd6-4986-befd-735a94939288",
   "metadata": {},
   "outputs": [
    {
     "data": {
      "text/html": [
       "<div>\n",
       "<style scoped>\n",
       "    .dataframe tbody tr th:only-of-type {\n",
       "        vertical-align: middle;\n",
       "    }\n",
       "\n",
       "    .dataframe tbody tr th {\n",
       "        vertical-align: top;\n",
       "    }\n",
       "\n",
       "    .dataframe thead th {\n",
       "        text-align: right;\n",
       "    }\n",
       "</style>\n",
       "<table border=\"1\" class=\"dataframe\">\n",
       "  <thead>\n",
       "    <tr style=\"text-align: right;\">\n",
       "      <th></th>\n",
       "      <th>COUNTRY</th>\n",
       "    </tr>\n",
       "    <tr>\n",
       "      <th>COUNTRY</th>\n",
       "      <th></th>\n",
       "    </tr>\n",
       "  </thead>\n",
       "  <tbody>\n",
       "    <tr>\n",
       "      <th>bra</th>\n",
       "      <td>1496</td>\n",
       "    </tr>\n",
       "    <tr>\n",
       "      <th>can</th>\n",
       "      <td>230</td>\n",
       "    </tr>\n",
       "    <tr>\n",
       "      <th>deu</th>\n",
       "      <td>455</td>\n",
       "    </tr>\n",
       "    <tr>\n",
       "      <th>fra</th>\n",
       "      <td>303</td>\n",
       "    </tr>\n",
       "    <tr>\n",
       "      <th>tur</th>\n",
       "      <td>451</td>\n",
       "    </tr>\n",
       "    <tr>\n",
       "      <th>usa</th>\n",
       "      <td>2065</td>\n",
       "    </tr>\n",
       "  </tbody>\n",
       "</table>\n",
       "</div>"
      ],
      "text/plain": [
       "         COUNTRY\n",
       "COUNTRY         \n",
       "bra         1496\n",
       "can          230\n",
       "deu          455\n",
       "fra          303\n",
       "tur          451\n",
       "usa         2065"
      ]
     },
     "execution_count": 26,
     "metadata": {},
     "output_type": "execute_result"
    }
   ],
   "source": [
    "df.groupby(\"COUNTRY\").agg({\"COUNTRY\": \"count\"})"
   ]
  },
  {
   "cell_type": "code",
   "execution_count": 27,
   "id": "e93f6368-cdea-41cb-9266-b7708c0f5cb6",
   "metadata": {},
   "outputs": [],
   "source": [
    "# Total revenue from sales by COUNTRY"
   ]
  },
  {
   "cell_type": "code",
   "execution_count": 28,
   "id": "56d79ed0-2e66-4421-9910-923f71364ca4",
   "metadata": {},
   "outputs": [
    {
     "data": {
      "text/html": [
       "<div>\n",
       "<style scoped>\n",
       "    .dataframe tbody tr th:only-of-type {\n",
       "        vertical-align: middle;\n",
       "    }\n",
       "\n",
       "    .dataframe tbody tr th {\n",
       "        vertical-align: top;\n",
       "    }\n",
       "\n",
       "    .dataframe thead th {\n",
       "        text-align: right;\n",
       "    }\n",
       "</style>\n",
       "<table border=\"1\" class=\"dataframe\">\n",
       "  <thead>\n",
       "    <tr style=\"text-align: right;\">\n",
       "      <th></th>\n",
       "      <th>PRICE</th>\n",
       "    </tr>\n",
       "    <tr>\n",
       "      <th>COUNTRY</th>\n",
       "      <th></th>\n",
       "    </tr>\n",
       "  </thead>\n",
       "  <tbody>\n",
       "    <tr>\n",
       "      <th>bra</th>\n",
       "      <td>51354</td>\n",
       "    </tr>\n",
       "    <tr>\n",
       "      <th>can</th>\n",
       "      <td>7730</td>\n",
       "    </tr>\n",
       "    <tr>\n",
       "      <th>deu</th>\n",
       "      <td>15485</td>\n",
       "    </tr>\n",
       "    <tr>\n",
       "      <th>fra</th>\n",
       "      <td>10177</td>\n",
       "    </tr>\n",
       "    <tr>\n",
       "      <th>tur</th>\n",
       "      <td>15689</td>\n",
       "    </tr>\n",
       "    <tr>\n",
       "      <th>usa</th>\n",
       "      <td>70225</td>\n",
       "    </tr>\n",
       "  </tbody>\n",
       "</table>\n",
       "</div>"
      ],
      "text/plain": [
       "         PRICE\n",
       "COUNTRY       \n",
       "bra      51354\n",
       "can       7730\n",
       "deu      15485\n",
       "fra      10177\n",
       "tur      15689\n",
       "usa      70225"
      ]
     },
     "execution_count": 28,
     "metadata": {},
     "output_type": "execute_result"
    }
   ],
   "source": [
    "df.groupby(\"COUNTRY\").agg({\"PRICE\": \"sum\"})"
   ]
  },
  {
   "cell_type": "code",
   "execution_count": 29,
   "id": "9034bb6e-7f7f-4dd1-bd45-20651f0e4578",
   "metadata": {},
   "outputs": [
    {
     "data": {
      "text/html": [
       "<div>\n",
       "<style scoped>\n",
       "    .dataframe tbody tr th:only-of-type {\n",
       "        vertical-align: middle;\n",
       "    }\n",
       "\n",
       "    .dataframe tbody tr th {\n",
       "        vertical-align: top;\n",
       "    }\n",
       "\n",
       "    .dataframe thead th {\n",
       "        text-align: right;\n",
       "    }\n",
       "</style>\n",
       "<table border=\"1\" class=\"dataframe\">\n",
       "  <thead>\n",
       "    <tr style=\"text-align: right;\">\n",
       "      <th></th>\n",
       "      <th>PRICE</th>\n",
       "    </tr>\n",
       "    <tr>\n",
       "      <th>COUNTRY</th>\n",
       "      <th></th>\n",
       "    </tr>\n",
       "  </thead>\n",
       "  <tbody>\n",
       "    <tr>\n",
       "      <th>usa</th>\n",
       "      <td>70225</td>\n",
       "    </tr>\n",
       "    <tr>\n",
       "      <th>bra</th>\n",
       "      <td>51354</td>\n",
       "    </tr>\n",
       "    <tr>\n",
       "      <th>tur</th>\n",
       "      <td>15689</td>\n",
       "    </tr>\n",
       "    <tr>\n",
       "      <th>deu</th>\n",
       "      <td>15485</td>\n",
       "    </tr>\n",
       "    <tr>\n",
       "      <th>fra</th>\n",
       "      <td>10177</td>\n",
       "    </tr>\n",
       "    <tr>\n",
       "      <th>can</th>\n",
       "      <td>7730</td>\n",
       "    </tr>\n",
       "  </tbody>\n",
       "</table>\n",
       "</div>"
      ],
      "text/plain": [
       "         PRICE\n",
       "COUNTRY       \n",
       "usa      70225\n",
       "bra      51354\n",
       "tur      15689\n",
       "deu      15485\n",
       "fra      10177\n",
       "can       7730"
      ]
     },
     "execution_count": 29,
     "metadata": {},
     "output_type": "execute_result"
    }
   ],
   "source": [
    "df.groupby(\"COUNTRY\").agg({\"PRICE\": \"sum\"}).sort_values(by=\"PRICE\", ascending=False)"
   ]
  },
  {
   "cell_type": "code",
   "execution_count": 30,
   "id": "6bf46ba4-7886-4a8b-8c39-36f7a24820cd",
   "metadata": {},
   "outputs": [],
   "source": [
    "# Sales by SOURCE type"
   ]
  },
  {
   "cell_type": "code",
   "execution_count": 31,
   "id": "bb702fbc-2d09-4f07-b5e5-3768f7ba0b13",
   "metadata": {},
   "outputs": [
    {
     "data": {
      "text/plain": [
       "SOURCE\n",
       "android    2974\n",
       "ios        2026\n",
       "Name: count, dtype: int64"
      ]
     },
     "execution_count": 31,
     "metadata": {},
     "output_type": "execute_result"
    }
   ],
   "source": [
    "df[\"SOURCE\"].value_counts()"
   ]
  },
  {
   "cell_type": "code",
   "execution_count": 32,
   "id": "f2f3ac16-426f-45f5-8d7f-aeda357155a6",
   "metadata": {},
   "outputs": [
    {
     "data": {
      "text/html": [
       "<div>\n",
       "<style scoped>\n",
       "    .dataframe tbody tr th:only-of-type {\n",
       "        vertical-align: middle;\n",
       "    }\n",
       "\n",
       "    .dataframe tbody tr th {\n",
       "        vertical-align: top;\n",
       "    }\n",
       "\n",
       "    .dataframe thead th {\n",
       "        text-align: right;\n",
       "    }\n",
       "</style>\n",
       "<table border=\"1\" class=\"dataframe\">\n",
       "  <thead>\n",
       "    <tr style=\"text-align: right;\">\n",
       "      <th></th>\n",
       "      <th>SOURCE</th>\n",
       "    </tr>\n",
       "    <tr>\n",
       "      <th>SOURCE</th>\n",
       "      <th></th>\n",
       "    </tr>\n",
       "  </thead>\n",
       "  <tbody>\n",
       "    <tr>\n",
       "      <th>android</th>\n",
       "      <td>2974</td>\n",
       "    </tr>\n",
       "    <tr>\n",
       "      <th>ios</th>\n",
       "      <td>2026</td>\n",
       "    </tr>\n",
       "  </tbody>\n",
       "</table>\n",
       "</div>"
      ],
      "text/plain": [
       "         SOURCE\n",
       "SOURCE         \n",
       "android    2974\n",
       "ios        2026"
      ]
     },
     "execution_count": 32,
     "metadata": {},
     "output_type": "execute_result"
    }
   ],
   "source": [
    "df.groupby(\"SOURCE\").agg({\"SOURCE\": \"count\"})"
   ]
  },
  {
   "cell_type": "code",
   "execution_count": 33,
   "id": "8e95bab6-29a9-459f-97ba-8fbeedaba1b5",
   "metadata": {},
   "outputs": [],
   "source": [
    "# PRICE averages by COUNTRY"
   ]
  },
  {
   "cell_type": "code",
   "execution_count": 34,
   "id": "6c19dd3f-a842-46f9-8275-edefff863f9f",
   "metadata": {},
   "outputs": [
    {
     "data": {
      "text/html": [
       "<div>\n",
       "<style scoped>\n",
       "    .dataframe tbody tr th:only-of-type {\n",
       "        vertical-align: middle;\n",
       "    }\n",
       "\n",
       "    .dataframe tbody tr th {\n",
       "        vertical-align: top;\n",
       "    }\n",
       "\n",
       "    .dataframe thead th {\n",
       "        text-align: right;\n",
       "    }\n",
       "</style>\n",
       "<table border=\"1\" class=\"dataframe\">\n",
       "  <thead>\n",
       "    <tr style=\"text-align: right;\">\n",
       "      <th></th>\n",
       "      <th>PRICE</th>\n",
       "    </tr>\n",
       "    <tr>\n",
       "      <th>COUNTRY</th>\n",
       "      <th></th>\n",
       "    </tr>\n",
       "  </thead>\n",
       "  <tbody>\n",
       "    <tr>\n",
       "      <th>bra</th>\n",
       "      <td>34.33</td>\n",
       "    </tr>\n",
       "    <tr>\n",
       "      <th>can</th>\n",
       "      <td>33.61</td>\n",
       "    </tr>\n",
       "    <tr>\n",
       "      <th>deu</th>\n",
       "      <td>34.03</td>\n",
       "    </tr>\n",
       "    <tr>\n",
       "      <th>fra</th>\n",
       "      <td>33.59</td>\n",
       "    </tr>\n",
       "    <tr>\n",
       "      <th>tur</th>\n",
       "      <td>34.79</td>\n",
       "    </tr>\n",
       "    <tr>\n",
       "      <th>usa</th>\n",
       "      <td>34.01</td>\n",
       "    </tr>\n",
       "  </tbody>\n",
       "</table>\n",
       "</div>"
      ],
      "text/plain": [
       "         PRICE\n",
       "COUNTRY       \n",
       "bra      34.33\n",
       "can      33.61\n",
       "deu      34.03\n",
       "fra      33.59\n",
       "tur      34.79\n",
       "usa      34.01"
      ]
     },
     "execution_count": 34,
     "metadata": {},
     "output_type": "execute_result"
    }
   ],
   "source": [
    "df.groupby(\"COUNTRY\").agg({\"PRICE\": \"mean\"})"
   ]
  },
  {
   "cell_type": "code",
   "execution_count": 35,
   "id": "860283b7-9ffc-43d3-a408-47f06f549dab",
   "metadata": {},
   "outputs": [
    {
     "data": {
      "text/html": [
       "<div>\n",
       "<style scoped>\n",
       "    .dataframe tbody tr th:only-of-type {\n",
       "        vertical-align: middle;\n",
       "    }\n",
       "\n",
       "    .dataframe tbody tr th {\n",
       "        vertical-align: top;\n",
       "    }\n",
       "\n",
       "    .dataframe thead th {\n",
       "        text-align: right;\n",
       "    }\n",
       "</style>\n",
       "<table border=\"1\" class=\"dataframe\">\n",
       "  <thead>\n",
       "    <tr style=\"text-align: right;\">\n",
       "      <th></th>\n",
       "      <th>PRICE</th>\n",
       "    </tr>\n",
       "    <tr>\n",
       "      <th>COUNTRY</th>\n",
       "      <th></th>\n",
       "    </tr>\n",
       "  </thead>\n",
       "  <tbody>\n",
       "    <tr>\n",
       "      <th>tur</th>\n",
       "      <td>34.79</td>\n",
       "    </tr>\n",
       "    <tr>\n",
       "      <th>bra</th>\n",
       "      <td>34.33</td>\n",
       "    </tr>\n",
       "    <tr>\n",
       "      <th>deu</th>\n",
       "      <td>34.03</td>\n",
       "    </tr>\n",
       "    <tr>\n",
       "      <th>usa</th>\n",
       "      <td>34.01</td>\n",
       "    </tr>\n",
       "    <tr>\n",
       "      <th>can</th>\n",
       "      <td>33.61</td>\n",
       "    </tr>\n",
       "    <tr>\n",
       "      <th>fra</th>\n",
       "      <td>33.59</td>\n",
       "    </tr>\n",
       "  </tbody>\n",
       "</table>\n",
       "</div>"
      ],
      "text/plain": [
       "         PRICE\n",
       "COUNTRY       \n",
       "tur      34.79\n",
       "bra      34.33\n",
       "deu      34.03\n",
       "usa      34.01\n",
       "can      33.61\n",
       "fra      33.59"
      ]
     },
     "execution_count": 35,
     "metadata": {},
     "output_type": "execute_result"
    }
   ],
   "source": [
    "df.groupby(\"COUNTRY\").agg({\"PRICE\": \"mean\"}).sort_values(by=\"PRICE\", ascending=False)"
   ]
  },
  {
   "cell_type": "code",
   "execution_count": null,
   "id": "e3cce6ad-7e01-46d5-a6c8-beadfd647142",
   "metadata": {},
   "outputs": [],
   "source": [
    "# PRICE averages by SOURCE"
   ]
  },
  {
   "cell_type": "code",
   "execution_count": 36,
   "id": "5abaaf3b-820d-402f-9cb4-dd242c2b158d",
   "metadata": {},
   "outputs": [
    {
     "data": {
      "text/html": [
       "<div>\n",
       "<style scoped>\n",
       "    .dataframe tbody tr th:only-of-type {\n",
       "        vertical-align: middle;\n",
       "    }\n",
       "\n",
       "    .dataframe tbody tr th {\n",
       "        vertical-align: top;\n",
       "    }\n",
       "\n",
       "    .dataframe thead th {\n",
       "        text-align: right;\n",
       "    }\n",
       "</style>\n",
       "<table border=\"1\" class=\"dataframe\">\n",
       "  <thead>\n",
       "    <tr style=\"text-align: right;\">\n",
       "      <th></th>\n",
       "      <th>PRICE</th>\n",
       "    </tr>\n",
       "    <tr>\n",
       "      <th>SOURCE</th>\n",
       "      <th></th>\n",
       "    </tr>\n",
       "  </thead>\n",
       "  <tbody>\n",
       "    <tr>\n",
       "      <th>android</th>\n",
       "      <td>34.17</td>\n",
       "    </tr>\n",
       "    <tr>\n",
       "      <th>ios</th>\n",
       "      <td>34.07</td>\n",
       "    </tr>\n",
       "  </tbody>\n",
       "</table>\n",
       "</div>"
      ],
      "text/plain": [
       "         PRICE\n",
       "SOURCE        \n",
       "android  34.17\n",
       "ios      34.07"
      ]
     },
     "execution_count": 36,
     "metadata": {},
     "output_type": "execute_result"
    }
   ],
   "source": [
    "df.groupby(\"SOURCE\").agg({\"PRICE\": \"mean\"})"
   ]
  },
  {
   "cell_type": "code",
   "execution_count": null,
   "id": "fafd7089-ee15-4346-93e6-55f2dde03216",
   "metadata": {},
   "outputs": [],
   "source": [
    "# PRICE averages by COUNTRY-SOURCE"
   ]
  },
  {
   "cell_type": "code",
   "execution_count": 37,
   "id": "1a60be9f-b79a-4211-8f0d-ca05c9f14242",
   "metadata": {},
   "outputs": [
    {
     "data": {
      "text/html": [
       "<div>\n",
       "<style scoped>\n",
       "    .dataframe tbody tr th:only-of-type {\n",
       "        vertical-align: middle;\n",
       "    }\n",
       "\n",
       "    .dataframe tbody tr th {\n",
       "        vertical-align: top;\n",
       "    }\n",
       "\n",
       "    .dataframe thead th {\n",
       "        text-align: right;\n",
       "    }\n",
       "</style>\n",
       "<table border=\"1\" class=\"dataframe\">\n",
       "  <thead>\n",
       "    <tr style=\"text-align: right;\">\n",
       "      <th></th>\n",
       "      <th></th>\n",
       "      <th>PRICE</th>\n",
       "    </tr>\n",
       "    <tr>\n",
       "      <th>COUNTRY</th>\n",
       "      <th>SOURCE</th>\n",
       "      <th></th>\n",
       "    </tr>\n",
       "  </thead>\n",
       "  <tbody>\n",
       "    <tr>\n",
       "      <th rowspan=\"2\" valign=\"top\">bra</th>\n",
       "      <th>android</th>\n",
       "      <td>34.39</td>\n",
       "    </tr>\n",
       "    <tr>\n",
       "      <th>ios</th>\n",
       "      <td>34.22</td>\n",
       "    </tr>\n",
       "    <tr>\n",
       "      <th rowspan=\"2\" valign=\"top\">can</th>\n",
       "      <th>android</th>\n",
       "      <td>33.33</td>\n",
       "    </tr>\n",
       "    <tr>\n",
       "      <th>ios</th>\n",
       "      <td>33.95</td>\n",
       "    </tr>\n",
       "    <tr>\n",
       "      <th rowspan=\"2\" valign=\"top\">deu</th>\n",
       "      <th>android</th>\n",
       "      <td>33.87</td>\n",
       "    </tr>\n",
       "    <tr>\n",
       "      <th>ios</th>\n",
       "      <td>34.27</td>\n",
       "    </tr>\n",
       "    <tr>\n",
       "      <th rowspan=\"2\" valign=\"top\">fra</th>\n",
       "      <th>android</th>\n",
       "      <td>34.31</td>\n",
       "    </tr>\n",
       "    <tr>\n",
       "      <th>ios</th>\n",
       "      <td>32.78</td>\n",
       "    </tr>\n",
       "    <tr>\n",
       "      <th rowspan=\"2\" valign=\"top\">tur</th>\n",
       "      <th>android</th>\n",
       "      <td>36.23</td>\n",
       "    </tr>\n",
       "    <tr>\n",
       "      <th>ios</th>\n",
       "      <td>33.27</td>\n",
       "    </tr>\n",
       "    <tr>\n",
       "      <th rowspan=\"2\" valign=\"top\">usa</th>\n",
       "      <th>android</th>\n",
       "      <td>33.76</td>\n",
       "    </tr>\n",
       "    <tr>\n",
       "      <th>ios</th>\n",
       "      <td>34.37</td>\n",
       "    </tr>\n",
       "  </tbody>\n",
       "</table>\n",
       "</div>"
      ],
      "text/plain": [
       "                 PRICE\n",
       "COUNTRY SOURCE        \n",
       "bra     android  34.39\n",
       "        ios      34.22\n",
       "can     android  33.33\n",
       "        ios      33.95\n",
       "deu     android  33.87\n",
       "        ios      34.27\n",
       "fra     android  34.31\n",
       "        ios      32.78\n",
       "tur     android  36.23\n",
       "        ios      33.27\n",
       "usa     android  33.76\n",
       "        ios      34.37"
      ]
     },
     "execution_count": 37,
     "metadata": {},
     "output_type": "execute_result"
    }
   ],
   "source": [
    "df.groupby([\"COUNTRY\", \"SOURCE\"]).agg({\"PRICE\": \"mean\"})"
   ]
  },
  {
   "cell_type": "code",
   "execution_count": null,
   "id": "38a88282-8eb5-4000-bf8c-19ffc276fd3b",
   "metadata": {},
   "outputs": [],
   "source": [
    "# Average earnings by COUNTRY, SORUCE, SEX, AGE "
   ]
  },
  {
   "cell_type": "code",
   "execution_count": 38,
   "id": "887b5ff0-824d-4daa-b71e-1f675cdec300",
   "metadata": {},
   "outputs": [
    {
     "data": {
      "text/html": [
       "<div>\n",
       "<style scoped>\n",
       "    .dataframe tbody tr th:only-of-type {\n",
       "        vertical-align: middle;\n",
       "    }\n",
       "\n",
       "    .dataframe tbody tr th {\n",
       "        vertical-align: top;\n",
       "    }\n",
       "\n",
       "    .dataframe thead th {\n",
       "        text-align: right;\n",
       "    }\n",
       "</style>\n",
       "<table border=\"1\" class=\"dataframe\">\n",
       "  <thead>\n",
       "    <tr style=\"text-align: right;\">\n",
       "      <th></th>\n",
       "      <th></th>\n",
       "      <th></th>\n",
       "      <th></th>\n",
       "      <th>PRICE</th>\n",
       "    </tr>\n",
       "    <tr>\n",
       "      <th>COUNTRY</th>\n",
       "      <th>SOURCE</th>\n",
       "      <th>SEX</th>\n",
       "      <th>AGE</th>\n",
       "      <th></th>\n",
       "    </tr>\n",
       "  </thead>\n",
       "  <tbody>\n",
       "    <tr>\n",
       "      <th rowspan=\"5\" valign=\"top\">bra</th>\n",
       "      <th rowspan=\"5\" valign=\"top\">android</th>\n",
       "      <th rowspan=\"5\" valign=\"top\">female</th>\n",
       "      <th>15</th>\n",
       "      <td>38.71</td>\n",
       "    </tr>\n",
       "    <tr>\n",
       "      <th>16</th>\n",
       "      <td>35.94</td>\n",
       "    </tr>\n",
       "    <tr>\n",
       "      <th>17</th>\n",
       "      <td>35.67</td>\n",
       "    </tr>\n",
       "    <tr>\n",
       "      <th>18</th>\n",
       "      <td>32.26</td>\n",
       "    </tr>\n",
       "    <tr>\n",
       "      <th>19</th>\n",
       "      <td>35.21</td>\n",
       "    </tr>\n",
       "    <tr>\n",
       "      <th>...</th>\n",
       "      <th>...</th>\n",
       "      <th>...</th>\n",
       "      <th>...</th>\n",
       "      <td>...</td>\n",
       "    </tr>\n",
       "    <tr>\n",
       "      <th rowspan=\"5\" valign=\"top\">usa</th>\n",
       "      <th rowspan=\"5\" valign=\"top\">ios</th>\n",
       "      <th rowspan=\"5\" valign=\"top\">male</th>\n",
       "      <th>42</th>\n",
       "      <td>30.25</td>\n",
       "    </tr>\n",
       "    <tr>\n",
       "      <th>50</th>\n",
       "      <td>39.00</td>\n",
       "    </tr>\n",
       "    <tr>\n",
       "      <th>53</th>\n",
       "      <td>34.00</td>\n",
       "    </tr>\n",
       "    <tr>\n",
       "      <th>55</th>\n",
       "      <td>29.00</td>\n",
       "    </tr>\n",
       "    <tr>\n",
       "      <th>59</th>\n",
       "      <td>46.50</td>\n",
       "    </tr>\n",
       "  </tbody>\n",
       "</table>\n",
       "<p>348 rows × 1 columns</p>\n",
       "</div>"
      ],
      "text/plain": [
       "                            PRICE\n",
       "COUNTRY SOURCE  SEX    AGE       \n",
       "bra     android female 15   38.71\n",
       "                       16   35.94\n",
       "                       17   35.67\n",
       "                       18   32.26\n",
       "                       19   35.21\n",
       "...                           ...\n",
       "usa     ios     male   42   30.25\n",
       "                       50   39.00\n",
       "                       53   34.00\n",
       "                       55   29.00\n",
       "                       59   46.50\n",
       "\n",
       "[348 rows x 1 columns]"
      ]
     },
     "execution_count": 38,
     "metadata": {},
     "output_type": "execute_result"
    }
   ],
   "source": [
    "df.groupby([\"COUNTRY\", \"SOURCE\", \"SEX\", \"AGE\"]).agg({\"PRICE\": \"mean\"})"
   ]
  },
  {
   "cell_type": "code",
   "execution_count": null,
   "id": "ce344835-d86a-465e-bb00-238484b8e0f2",
   "metadata": {},
   "outputs": [],
   "source": [
    "# Sorting by PRICE"
   ]
  },
  {
   "cell_type": "code",
   "execution_count": 41,
   "id": "ee286fc4-aeb5-4847-b5d8-e979b6c3d85f",
   "metadata": {},
   "outputs": [
    {
     "data": {
      "text/html": [
       "<div>\n",
       "<style scoped>\n",
       "    .dataframe tbody tr th:only-of-type {\n",
       "        vertical-align: middle;\n",
       "    }\n",
       "\n",
       "    .dataframe tbody tr th {\n",
       "        vertical-align: top;\n",
       "    }\n",
       "\n",
       "    .dataframe thead th {\n",
       "        text-align: right;\n",
       "    }\n",
       "</style>\n",
       "<table border=\"1\" class=\"dataframe\">\n",
       "  <thead>\n",
       "    <tr style=\"text-align: right;\">\n",
       "      <th></th>\n",
       "      <th></th>\n",
       "      <th></th>\n",
       "      <th></th>\n",
       "      <th>PRICE</th>\n",
       "    </tr>\n",
       "    <tr>\n",
       "      <th>COUNTRY</th>\n",
       "      <th>SOURCE</th>\n",
       "      <th>SEX</th>\n",
       "      <th>AGE</th>\n",
       "      <th></th>\n",
       "    </tr>\n",
       "  </thead>\n",
       "  <tbody>\n",
       "    <tr>\n",
       "      <th>bra</th>\n",
       "      <th>android</th>\n",
       "      <th>male</th>\n",
       "      <th>46</th>\n",
       "      <td>59.0</td>\n",
       "    </tr>\n",
       "    <tr>\n",
       "      <th>usa</th>\n",
       "      <th>android</th>\n",
       "      <th>male</th>\n",
       "      <th>36</th>\n",
       "      <td>59.0</td>\n",
       "    </tr>\n",
       "    <tr>\n",
       "      <th>fra</th>\n",
       "      <th>android</th>\n",
       "      <th>female</th>\n",
       "      <th>24</th>\n",
       "      <td>59.0</td>\n",
       "    </tr>\n",
       "    <tr>\n",
       "      <th>usa</th>\n",
       "      <th>ios</th>\n",
       "      <th>male</th>\n",
       "      <th>32</th>\n",
       "      <td>54.0</td>\n",
       "    </tr>\n",
       "    <tr>\n",
       "      <th>deu</th>\n",
       "      <th>android</th>\n",
       "      <th>female</th>\n",
       "      <th>36</th>\n",
       "      <td>49.0</td>\n",
       "    </tr>\n",
       "    <tr>\n",
       "      <th>...</th>\n",
       "      <th>...</th>\n",
       "      <th>...</th>\n",
       "      <th>...</th>\n",
       "      <td>...</td>\n",
       "    </tr>\n",
       "    <tr>\n",
       "      <th rowspan=\"2\" valign=\"top\">usa</th>\n",
       "      <th rowspan=\"2\" valign=\"top\">ios</th>\n",
       "      <th rowspan=\"2\" valign=\"top\">female</th>\n",
       "      <th>38</th>\n",
       "      <td>19.0</td>\n",
       "    </tr>\n",
       "    <tr>\n",
       "      <th>30</th>\n",
       "      <td>19.0</td>\n",
       "    </tr>\n",
       "    <tr>\n",
       "      <th>can</th>\n",
       "      <th>android</th>\n",
       "      <th>female</th>\n",
       "      <th>27</th>\n",
       "      <td>19.0</td>\n",
       "    </tr>\n",
       "    <tr>\n",
       "      <th>fra</th>\n",
       "      <th>android</th>\n",
       "      <th>male</th>\n",
       "      <th>18</th>\n",
       "      <td>19.0</td>\n",
       "    </tr>\n",
       "    <tr>\n",
       "      <th>deu</th>\n",
       "      <th>android</th>\n",
       "      <th>male</th>\n",
       "      <th>26</th>\n",
       "      <td>9.0</td>\n",
       "    </tr>\n",
       "  </tbody>\n",
       "</table>\n",
       "<p>348 rows × 1 columns</p>\n",
       "</div>"
      ],
      "text/plain": [
       "                            PRICE\n",
       "COUNTRY SOURCE  SEX    AGE       \n",
       "bra     android male   46    59.0\n",
       "usa     android male   36    59.0\n",
       "fra     android female 24    59.0\n",
       "usa     ios     male   32    54.0\n",
       "deu     android female 36    49.0\n",
       "...                           ...\n",
       "usa     ios     female 38    19.0\n",
       "                       30    19.0\n",
       "can     android female 27    19.0\n",
       "fra     android male   18    19.0\n",
       "deu     android male   26     9.0\n",
       "\n",
       "[348 rows x 1 columns]"
      ]
     },
     "execution_count": 41,
     "metadata": {},
     "output_type": "execute_result"
    }
   ],
   "source": [
    "agg_df = df.groupby([\"COUNTRY\", \"SOURCE\", \"SEX\", \"AGE\"]).agg({\"PRICE\": \"mean\"}).sort_values(by=\"PRICE\", ascending=False)\n",
    "\n",
    "agg_df"
   ]
  },
  {
   "cell_type": "code",
   "execution_count": null,
   "id": "c703766e-4635-4b91-b8ff-4dd12c027aee",
   "metadata": {},
   "outputs": [],
   "source": [
    "# 2) Converting the index names into variable names."
   ]
  },
  {
   "cell_type": "code",
   "execution_count": 42,
   "id": "da84b32b-125d-43cb-a71b-d95d7a1af4cc",
   "metadata": {},
   "outputs": [],
   "source": [
    "agg_df.reset_index(inplace=True)"
   ]
  },
  {
   "cell_type": "code",
   "execution_count": 43,
   "id": "532e59c2-0dec-4d49-8158-b75b039b692f",
   "metadata": {},
   "outputs": [
    {
     "data": {
      "text/html": [
       "<div>\n",
       "<style scoped>\n",
       "    .dataframe tbody tr th:only-of-type {\n",
       "        vertical-align: middle;\n",
       "    }\n",
       "\n",
       "    .dataframe tbody tr th {\n",
       "        vertical-align: top;\n",
       "    }\n",
       "\n",
       "    .dataframe thead th {\n",
       "        text-align: right;\n",
       "    }\n",
       "</style>\n",
       "<table border=\"1\" class=\"dataframe\">\n",
       "  <thead>\n",
       "    <tr style=\"text-align: right;\">\n",
       "      <th></th>\n",
       "      <th>COUNTRY</th>\n",
       "      <th>SOURCE</th>\n",
       "      <th>SEX</th>\n",
       "      <th>AGE</th>\n",
       "      <th>PRICE</th>\n",
       "    </tr>\n",
       "  </thead>\n",
       "  <tbody>\n",
       "    <tr>\n",
       "      <th>0</th>\n",
       "      <td>bra</td>\n",
       "      <td>android</td>\n",
       "      <td>male</td>\n",
       "      <td>46</td>\n",
       "      <td>59.0</td>\n",
       "    </tr>\n",
       "    <tr>\n",
       "      <th>1</th>\n",
       "      <td>usa</td>\n",
       "      <td>android</td>\n",
       "      <td>male</td>\n",
       "      <td>36</td>\n",
       "      <td>59.0</td>\n",
       "    </tr>\n",
       "    <tr>\n",
       "      <th>2</th>\n",
       "      <td>fra</td>\n",
       "      <td>android</td>\n",
       "      <td>female</td>\n",
       "      <td>24</td>\n",
       "      <td>59.0</td>\n",
       "    </tr>\n",
       "    <tr>\n",
       "      <th>3</th>\n",
       "      <td>usa</td>\n",
       "      <td>ios</td>\n",
       "      <td>male</td>\n",
       "      <td>32</td>\n",
       "      <td>54.0</td>\n",
       "    </tr>\n",
       "    <tr>\n",
       "      <th>4</th>\n",
       "      <td>deu</td>\n",
       "      <td>android</td>\n",
       "      <td>female</td>\n",
       "      <td>36</td>\n",
       "      <td>49.0</td>\n",
       "    </tr>\n",
       "    <tr>\n",
       "      <th>...</th>\n",
       "      <td>...</td>\n",
       "      <td>...</td>\n",
       "      <td>...</td>\n",
       "      <td>...</td>\n",
       "      <td>...</td>\n",
       "    </tr>\n",
       "    <tr>\n",
       "      <th>343</th>\n",
       "      <td>usa</td>\n",
       "      <td>ios</td>\n",
       "      <td>female</td>\n",
       "      <td>38</td>\n",
       "      <td>19.0</td>\n",
       "    </tr>\n",
       "    <tr>\n",
       "      <th>344</th>\n",
       "      <td>usa</td>\n",
       "      <td>ios</td>\n",
       "      <td>female</td>\n",
       "      <td>30</td>\n",
       "      <td>19.0</td>\n",
       "    </tr>\n",
       "    <tr>\n",
       "      <th>345</th>\n",
       "      <td>can</td>\n",
       "      <td>android</td>\n",
       "      <td>female</td>\n",
       "      <td>27</td>\n",
       "      <td>19.0</td>\n",
       "    </tr>\n",
       "    <tr>\n",
       "      <th>346</th>\n",
       "      <td>fra</td>\n",
       "      <td>android</td>\n",
       "      <td>male</td>\n",
       "      <td>18</td>\n",
       "      <td>19.0</td>\n",
       "    </tr>\n",
       "    <tr>\n",
       "      <th>347</th>\n",
       "      <td>deu</td>\n",
       "      <td>android</td>\n",
       "      <td>male</td>\n",
       "      <td>26</td>\n",
       "      <td>9.0</td>\n",
       "    </tr>\n",
       "  </tbody>\n",
       "</table>\n",
       "<p>348 rows × 5 columns</p>\n",
       "</div>"
      ],
      "text/plain": [
       "    COUNTRY   SOURCE     SEX  AGE  PRICE\n",
       "0       bra  android    male   46   59.0\n",
       "1       usa  android    male   36   59.0\n",
       "2       fra  android  female   24   59.0\n",
       "3       usa      ios    male   32   54.0\n",
       "4       deu  android  female   36   49.0\n",
       "..      ...      ...     ...  ...    ...\n",
       "343     usa      ios  female   38   19.0\n",
       "344     usa      ios  female   30   19.0\n",
       "345     can  android  female   27   19.0\n",
       "346     fra  android    male   18   19.0\n",
       "347     deu  android    male   26    9.0\n",
       "\n",
       "[348 rows x 5 columns]"
      ]
     },
     "execution_count": 43,
     "metadata": {},
     "output_type": "execute_result"
    }
   ],
   "source": [
    "agg_df"
   ]
  },
  {
   "cell_type": "code",
   "execution_count": null,
   "id": "06e233d5-ea96-4a39-ba79-5f0ec073f03e",
   "metadata": {},
   "outputs": [],
   "source": [
    "# Converting the numeric variable \"AGE\" to a categorical variable."
   ]
  },
  {
   "cell_type": "code",
   "execution_count": 44,
   "id": "8f33741f-57ca-435a-b18c-02d831eb7c8a",
   "metadata": {},
   "outputs": [
    {
     "data": {
      "text/plain": [
       "dtype('int64')"
      ]
     },
     "execution_count": 44,
     "metadata": {},
     "output_type": "execute_result"
    }
   ],
   "source": [
    "agg_df[\"AGE\"].dtype"
   ]
  },
  {
   "cell_type": "code",
   "execution_count": 45,
   "id": "8a8b4109-1ca1-40dc-8686-dfbb03992070",
   "metadata": {},
   "outputs": [],
   "source": [
    "agg_df[\"AGE\"] = agg_df[\"AGE\"].astype(\"category\")"
   ]
  },
  {
   "cell_type": "code",
   "execution_count": 46,
   "id": "01db4ed3-ad7f-4c37-acda-b2462ec4fa5c",
   "metadata": {},
   "outputs": [
    {
     "data": {
      "text/plain": [
       "CategoricalDtype(categories=[15, 16, 17, 18, 19, 20, 21, 22, 23, 24, 25, 26, 27, 28, 29, 30, 31, 32, 33, 34, 35, 36, 37, 38, 39, 40, 41, 42, 43, 44, 45, 46, 47, 49, 50, 51, 52, 53, 54, 55, 56, 57, 59, 61, 65, 66], ordered=False, categories_dtype=int64)"
      ]
     },
     "execution_count": 46,
     "metadata": {},
     "output_type": "execute_result"
    }
   ],
   "source": [
    "agg_df[\"AGE\"].dtype"
   ]
  },
  {
   "cell_type": "code",
   "execution_count": 50,
   "id": "3902a81d-815f-4db9-ab08-1d3d797bad95",
   "metadata": {},
   "outputs": [],
   "source": [
    "agg_df[\"AGE_CAT\"] = agg_df[\"AGE\"].apply(\n",
    "lambda x: '0_18' \n",
    "    if x <= 18 \n",
    "       else'19_23' \n",
    "    if x <= 23 \n",
    "       else'24_30'\n",
    "    if x <= 30 \n",
    "       else'31_40' \n",
    "    if x <= 40 \n",
    "       else '41_70')"
   ]
  },
  {
   "cell_type": "code",
   "execution_count": 51,
   "id": "e91c8d2c-9377-4af7-bb9d-afde304bfce6",
   "metadata": {},
   "outputs": [
    {
     "data": {
      "text/html": [
       "<div>\n",
       "<style scoped>\n",
       "    .dataframe tbody tr th:only-of-type {\n",
       "        vertical-align: middle;\n",
       "    }\n",
       "\n",
       "    .dataframe tbody tr th {\n",
       "        vertical-align: top;\n",
       "    }\n",
       "\n",
       "    .dataframe thead th {\n",
       "        text-align: right;\n",
       "    }\n",
       "</style>\n",
       "<table border=\"1\" class=\"dataframe\">\n",
       "  <thead>\n",
       "    <tr style=\"text-align: right;\">\n",
       "      <th></th>\n",
       "      <th>COUNTRY</th>\n",
       "      <th>SOURCE</th>\n",
       "      <th>SEX</th>\n",
       "      <th>AGE</th>\n",
       "      <th>PRICE</th>\n",
       "      <th>AGE_CAT</th>\n",
       "    </tr>\n",
       "  </thead>\n",
       "  <tbody>\n",
       "    <tr>\n",
       "      <th>292</th>\n",
       "      <td>bra</td>\n",
       "      <td>android</td>\n",
       "      <td>male</td>\n",
       "      <td>53</td>\n",
       "      <td>29.00</td>\n",
       "      <td>41_70</td>\n",
       "    </tr>\n",
       "    <tr>\n",
       "      <th>173</th>\n",
       "      <td>usa</td>\n",
       "      <td>ios</td>\n",
       "      <td>male</td>\n",
       "      <td>20</td>\n",
       "      <td>34.00</td>\n",
       "      <td>19_23</td>\n",
       "    </tr>\n",
       "    <tr>\n",
       "      <th>271</th>\n",
       "      <td>deu</td>\n",
       "      <td>ios</td>\n",
       "      <td>female</td>\n",
       "      <td>15</td>\n",
       "      <td>30.67</td>\n",
       "      <td>0_18</td>\n",
       "    </tr>\n",
       "    <tr>\n",
       "      <th>309</th>\n",
       "      <td>usa</td>\n",
       "      <td>android</td>\n",
       "      <td>male</td>\n",
       "      <td>37</td>\n",
       "      <td>29.00</td>\n",
       "      <td>31_40</td>\n",
       "    </tr>\n",
       "    <tr>\n",
       "      <th>1</th>\n",
       "      <td>usa</td>\n",
       "      <td>android</td>\n",
       "      <td>male</td>\n",
       "      <td>36</td>\n",
       "      <td>59.00</td>\n",
       "      <td>31_40</td>\n",
       "    </tr>\n",
       "    <tr>\n",
       "      <th>272</th>\n",
       "      <td>fra</td>\n",
       "      <td>ios</td>\n",
       "      <td>male</td>\n",
       "      <td>16</td>\n",
       "      <td>30.67</td>\n",
       "      <td>0_18</td>\n",
       "    </tr>\n",
       "    <tr>\n",
       "      <th>139</th>\n",
       "      <td>deu</td>\n",
       "      <td>ios</td>\n",
       "      <td>male</td>\n",
       "      <td>17</td>\n",
       "      <td>35.00</td>\n",
       "      <td>0_18</td>\n",
       "    </tr>\n",
       "    <tr>\n",
       "      <th>59</th>\n",
       "      <td>tur</td>\n",
       "      <td>android</td>\n",
       "      <td>male</td>\n",
       "      <td>17</td>\n",
       "      <td>39.00</td>\n",
       "      <td>0_18</td>\n",
       "    </tr>\n",
       "    <tr>\n",
       "      <th>264</th>\n",
       "      <td>deu</td>\n",
       "      <td>android</td>\n",
       "      <td>female</td>\n",
       "      <td>21</td>\n",
       "      <td>31.00</td>\n",
       "      <td>19_23</td>\n",
       "    </tr>\n",
       "    <tr>\n",
       "      <th>112</th>\n",
       "      <td>bra</td>\n",
       "      <td>android</td>\n",
       "      <td>female</td>\n",
       "      <td>25</td>\n",
       "      <td>35.67</td>\n",
       "      <td>24_30</td>\n",
       "    </tr>\n",
       "  </tbody>\n",
       "</table>\n",
       "</div>"
      ],
      "text/plain": [
       "    COUNTRY   SOURCE     SEX AGE  PRICE AGE_CAT\n",
       "292     bra  android    male  53  29.00   41_70\n",
       "173     usa      ios    male  20  34.00   19_23\n",
       "271     deu      ios  female  15  30.67    0_18\n",
       "309     usa  android    male  37  29.00   31_40\n",
       "1       usa  android    male  36  59.00   31_40\n",
       "272     fra      ios    male  16  30.67    0_18\n",
       "139     deu      ios    male  17  35.00    0_18\n",
       "59      tur  android    male  17  39.00    0_18\n",
       "264     deu  android  female  21  31.00   19_23\n",
       "112     bra  android  female  25  35.67   24_30"
      ]
     },
     "execution_count": 51,
     "metadata": {},
     "output_type": "execute_result"
    }
   ],
   "source": [
    "agg_df.sample(10)"
   ]
  },
  {
   "cell_type": "code",
   "execution_count": null,
   "id": "cb873f01-d0ab-4e7d-a2a1-d6c69216935c",
   "metadata": {},
   "outputs": [],
   "source": [
    "# 3) Defining a variable named CUSTOMERS_LEVEL_BASED and adding this variable to the data set."
   ]
  },
  {
   "cell_type": "code",
   "execution_count": 108,
   "id": "bb1f9254-b871-4b0d-b96a-40b8ee9cad86",
   "metadata": {},
   "outputs": [],
   "source": [
    "agg_df[\"CUSTOMERS_LEVEL_BASED\"] = agg_df[\"COUNTRY\"] + \"_\" + agg_df[\"SOURCE\"] + \"_\" + agg_df[\"SEX\"] + \"_\" + agg_df[\"AGE_CAT\"]"
   ]
  },
  {
   "cell_type": "code",
   "execution_count": 119,
   "id": "852b2bcd-5a21-4e7c-b617-458a13d73942",
   "metadata": {},
   "outputs": [],
   "source": [
    "agg_df[\"CUSTOMERS_LEVEL_BASED\"] = agg_df[\"CUSTOMERS_LEVEL_BASED\"].str.upper()"
   ]
  },
  {
   "cell_type": "code",
   "execution_count": 120,
   "id": "4647920d-7a05-45ae-8c26-23d90db9257c",
   "metadata": {},
   "outputs": [
    {
     "data": {
      "text/html": [
       "<div>\n",
       "<style scoped>\n",
       "    .dataframe tbody tr th:only-of-type {\n",
       "        vertical-align: middle;\n",
       "    }\n",
       "\n",
       "    .dataframe tbody tr th {\n",
       "        vertical-align: top;\n",
       "    }\n",
       "\n",
       "    .dataframe thead th {\n",
       "        text-align: right;\n",
       "    }\n",
       "</style>\n",
       "<table border=\"1\" class=\"dataframe\">\n",
       "  <thead>\n",
       "    <tr style=\"text-align: right;\">\n",
       "      <th></th>\n",
       "      <th>COUNTRY</th>\n",
       "      <th>SOURCE</th>\n",
       "      <th>SEX</th>\n",
       "      <th>AGE</th>\n",
       "      <th>PRICE</th>\n",
       "      <th>AGE_CAT</th>\n",
       "      <th>SEGMENT</th>\n",
       "      <th>CUSTOMERS_LEVEL_BASED</th>\n",
       "    </tr>\n",
       "  </thead>\n",
       "  <tbody>\n",
       "    <tr>\n",
       "      <th>0</th>\n",
       "      <td>bra</td>\n",
       "      <td>android</td>\n",
       "      <td>male</td>\n",
       "      <td>46</td>\n",
       "      <td>59.0</td>\n",
       "      <td>41_70</td>\n",
       "      <td>A</td>\n",
       "      <td>BRA_ANDROID_MALE_41_70</td>\n",
       "    </tr>\n",
       "    <tr>\n",
       "      <th>1</th>\n",
       "      <td>usa</td>\n",
       "      <td>android</td>\n",
       "      <td>male</td>\n",
       "      <td>36</td>\n",
       "      <td>59.0</td>\n",
       "      <td>31_40</td>\n",
       "      <td>A</td>\n",
       "      <td>USA_ANDROID_MALE_31_40</td>\n",
       "    </tr>\n",
       "    <tr>\n",
       "      <th>2</th>\n",
       "      <td>fra</td>\n",
       "      <td>android</td>\n",
       "      <td>female</td>\n",
       "      <td>24</td>\n",
       "      <td>59.0</td>\n",
       "      <td>24_30</td>\n",
       "      <td>A</td>\n",
       "      <td>FRA_ANDROID_FEMALE_24_30</td>\n",
       "    </tr>\n",
       "    <tr>\n",
       "      <th>3</th>\n",
       "      <td>usa</td>\n",
       "      <td>ios</td>\n",
       "      <td>male</td>\n",
       "      <td>32</td>\n",
       "      <td>54.0</td>\n",
       "      <td>31_40</td>\n",
       "      <td>A</td>\n",
       "      <td>USA_IOS_MALE_31_40</td>\n",
       "    </tr>\n",
       "    <tr>\n",
       "      <th>4</th>\n",
       "      <td>deu</td>\n",
       "      <td>android</td>\n",
       "      <td>female</td>\n",
       "      <td>36</td>\n",
       "      <td>49.0</td>\n",
       "      <td>31_40</td>\n",
       "      <td>A</td>\n",
       "      <td>DEU_ANDROID_FEMALE_31_40</td>\n",
       "    </tr>\n",
       "    <tr>\n",
       "      <th>...</th>\n",
       "      <td>...</td>\n",
       "      <td>...</td>\n",
       "      <td>...</td>\n",
       "      <td>...</td>\n",
       "      <td>...</td>\n",
       "      <td>...</td>\n",
       "      <td>...</td>\n",
       "      <td>...</td>\n",
       "    </tr>\n",
       "    <tr>\n",
       "      <th>343</th>\n",
       "      <td>usa</td>\n",
       "      <td>ios</td>\n",
       "      <td>female</td>\n",
       "      <td>38</td>\n",
       "      <td>19.0</td>\n",
       "      <td>31_40</td>\n",
       "      <td>D</td>\n",
       "      <td>USA_IOS_FEMALE_31_40</td>\n",
       "    </tr>\n",
       "    <tr>\n",
       "      <th>344</th>\n",
       "      <td>usa</td>\n",
       "      <td>ios</td>\n",
       "      <td>female</td>\n",
       "      <td>30</td>\n",
       "      <td>19.0</td>\n",
       "      <td>24_30</td>\n",
       "      <td>D</td>\n",
       "      <td>USA_IOS_FEMALE_24_30</td>\n",
       "    </tr>\n",
       "    <tr>\n",
       "      <th>345</th>\n",
       "      <td>can</td>\n",
       "      <td>android</td>\n",
       "      <td>female</td>\n",
       "      <td>27</td>\n",
       "      <td>19.0</td>\n",
       "      <td>24_30</td>\n",
       "      <td>D</td>\n",
       "      <td>CAN_ANDROID_FEMALE_24_30</td>\n",
       "    </tr>\n",
       "    <tr>\n",
       "      <th>346</th>\n",
       "      <td>fra</td>\n",
       "      <td>android</td>\n",
       "      <td>male</td>\n",
       "      <td>18</td>\n",
       "      <td>19.0</td>\n",
       "      <td>0_18</td>\n",
       "      <td>D</td>\n",
       "      <td>FRA_ANDROID_MALE_0_18</td>\n",
       "    </tr>\n",
       "    <tr>\n",
       "      <th>347</th>\n",
       "      <td>deu</td>\n",
       "      <td>android</td>\n",
       "      <td>male</td>\n",
       "      <td>26</td>\n",
       "      <td>9.0</td>\n",
       "      <td>24_30</td>\n",
       "      <td>D</td>\n",
       "      <td>DEU_ANDROID_MALE_24_30</td>\n",
       "    </tr>\n",
       "  </tbody>\n",
       "</table>\n",
       "<p>348 rows × 8 columns</p>\n",
       "</div>"
      ],
      "text/plain": [
       "    COUNTRY   SOURCE     SEX AGE  PRICE AGE_CAT SEGMENT     CUSTOMERS_LEVEL_BASED\n",
       "0       bra  android    male  46   59.0   41_70       A    BRA_ANDROID_MALE_41_70\n",
       "1       usa  android    male  36   59.0   31_40       A    USA_ANDROID_MALE_31_40\n",
       "2       fra  android  female  24   59.0   24_30       A  FRA_ANDROID_FEMALE_24_30\n",
       "3       usa      ios    male  32   54.0   31_40       A        USA_IOS_MALE_31_40\n",
       "4       deu  android  female  36   49.0   31_40       A  DEU_ANDROID_FEMALE_31_40\n",
       "..      ...      ...     ...  ..    ...     ...     ...                       ...\n",
       "343     usa      ios  female  38   19.0   31_40       D      USA_IOS_FEMALE_31_40\n",
       "344     usa      ios  female  30   19.0   24_30       D      USA_IOS_FEMALE_24_30\n",
       "345     can  android  female  27   19.0   24_30       D  CAN_ANDROID_FEMALE_24_30\n",
       "346     fra  android    male  18   19.0    0_18       D     FRA_ANDROID_MALE_0_18\n",
       "347     deu  android    male  26    9.0   24_30       D    DEU_ANDROID_MALE_24_30\n",
       "\n",
       "[348 rows x 8 columns]"
      ]
     },
     "execution_count": 120,
     "metadata": {},
     "output_type": "execute_result"
    }
   ],
   "source": [
    "agg_df"
   ]
  },
  {
   "cell_type": "code",
   "execution_count": null,
   "id": "0fc55004-effe-4b70-a14b-82a2aa3ac519",
   "metadata": {},
   "outputs": [],
   "source": [
    "# Filtering PRICE and CUSTOMERS_LEVEL_BASED"
   ]
  },
  {
   "cell_type": "code",
   "execution_count": 121,
   "id": "1c5b2518-f844-4109-b6af-a402e21628a5",
   "metadata": {},
   "outputs": [
    {
     "data": {
      "text/html": [
       "<div>\n",
       "<style scoped>\n",
       "    .dataframe tbody tr th:only-of-type {\n",
       "        vertical-align: middle;\n",
       "    }\n",
       "\n",
       "    .dataframe tbody tr th {\n",
       "        vertical-align: top;\n",
       "    }\n",
       "\n",
       "    .dataframe thead th {\n",
       "        text-align: right;\n",
       "    }\n",
       "</style>\n",
       "<table border=\"1\" class=\"dataframe\">\n",
       "  <thead>\n",
       "    <tr style=\"text-align: right;\">\n",
       "      <th></th>\n",
       "      <th>CUSTOMERS_LEVEL_BASED</th>\n",
       "      <th>PRICE</th>\n",
       "    </tr>\n",
       "  </thead>\n",
       "  <tbody>\n",
       "    <tr>\n",
       "      <th>0</th>\n",
       "      <td>BRA_ANDROID_MALE_41_70</td>\n",
       "      <td>59.0</td>\n",
       "    </tr>\n",
       "    <tr>\n",
       "      <th>1</th>\n",
       "      <td>USA_ANDROID_MALE_31_40</td>\n",
       "      <td>59.0</td>\n",
       "    </tr>\n",
       "    <tr>\n",
       "      <th>2</th>\n",
       "      <td>FRA_ANDROID_FEMALE_24_30</td>\n",
       "      <td>59.0</td>\n",
       "    </tr>\n",
       "    <tr>\n",
       "      <th>3</th>\n",
       "      <td>USA_IOS_MALE_31_40</td>\n",
       "      <td>54.0</td>\n",
       "    </tr>\n",
       "    <tr>\n",
       "      <th>4</th>\n",
       "      <td>DEU_ANDROID_FEMALE_31_40</td>\n",
       "      <td>49.0</td>\n",
       "    </tr>\n",
       "    <tr>\n",
       "      <th>...</th>\n",
       "      <td>...</td>\n",
       "      <td>...</td>\n",
       "    </tr>\n",
       "    <tr>\n",
       "      <th>343</th>\n",
       "      <td>USA_IOS_FEMALE_31_40</td>\n",
       "      <td>19.0</td>\n",
       "    </tr>\n",
       "    <tr>\n",
       "      <th>344</th>\n",
       "      <td>USA_IOS_FEMALE_24_30</td>\n",
       "      <td>19.0</td>\n",
       "    </tr>\n",
       "    <tr>\n",
       "      <th>345</th>\n",
       "      <td>CAN_ANDROID_FEMALE_24_30</td>\n",
       "      <td>19.0</td>\n",
       "    </tr>\n",
       "    <tr>\n",
       "      <th>346</th>\n",
       "      <td>FRA_ANDROID_MALE_0_18</td>\n",
       "      <td>19.0</td>\n",
       "    </tr>\n",
       "    <tr>\n",
       "      <th>347</th>\n",
       "      <td>DEU_ANDROID_MALE_24_30</td>\n",
       "      <td>9.0</td>\n",
       "    </tr>\n",
       "  </tbody>\n",
       "</table>\n",
       "<p>348 rows × 2 columns</p>\n",
       "</div>"
      ],
      "text/plain": [
       "        CUSTOMERS_LEVEL_BASED  PRICE\n",
       "0      BRA_ANDROID_MALE_41_70   59.0\n",
       "1      USA_ANDROID_MALE_31_40   59.0\n",
       "2    FRA_ANDROID_FEMALE_24_30   59.0\n",
       "3          USA_IOS_MALE_31_40   54.0\n",
       "4    DEU_ANDROID_FEMALE_31_40   49.0\n",
       "..                        ...    ...\n",
       "343      USA_IOS_FEMALE_31_40   19.0\n",
       "344      USA_IOS_FEMALE_24_30   19.0\n",
       "345  CAN_ANDROID_FEMALE_24_30   19.0\n",
       "346     FRA_ANDROID_MALE_0_18   19.0\n",
       "347    DEU_ANDROID_MALE_24_30    9.0\n",
       "\n",
       "[348 rows x 2 columns]"
      ]
     },
     "execution_count": 121,
     "metadata": {},
     "output_type": "execute_result"
    }
   ],
   "source": [
    "agg_df.loc[:, [\"CUSTOMERS_LEVEL_BASED\", \"PRICE\"]]"
   ]
  },
  {
   "cell_type": "code",
   "execution_count": null,
   "id": "b08c028d-a155-457a-afc6-a1ddf2b89819",
   "metadata": {},
   "outputs": [],
   "source": [
    "# PPRICE averages of CUSTOMERS_LEVEL_BASED"
   ]
  },
  {
   "cell_type": "code",
   "execution_count": 122,
   "id": "f03ecf17-f461-43d2-b1bb-9abac536045e",
   "metadata": {},
   "outputs": [
    {
     "data": {
      "text/html": [
       "<div>\n",
       "<style scoped>\n",
       "    .dataframe tbody tr th:only-of-type {\n",
       "        vertical-align: middle;\n",
       "    }\n",
       "\n",
       "    .dataframe tbody tr th {\n",
       "        vertical-align: top;\n",
       "    }\n",
       "\n",
       "    .dataframe thead th {\n",
       "        text-align: right;\n",
       "    }\n",
       "</style>\n",
       "<table border=\"1\" class=\"dataframe\">\n",
       "  <thead>\n",
       "    <tr style=\"text-align: right;\">\n",
       "      <th></th>\n",
       "      <th>PRICE</th>\n",
       "    </tr>\n",
       "    <tr>\n",
       "      <th>CUSTOMERS_LEVEL_BASED</th>\n",
       "      <th></th>\n",
       "    </tr>\n",
       "  </thead>\n",
       "  <tbody>\n",
       "    <tr>\n",
       "      <th>FRA_ANDROID_FEMALE_24_30</th>\n",
       "      <td>45.43</td>\n",
       "    </tr>\n",
       "    <tr>\n",
       "      <th>TUR_IOS_MALE_24_30</th>\n",
       "      <td>45.00</td>\n",
       "    </tr>\n",
       "    <tr>\n",
       "      <th>TUR_IOS_MALE_31_40</th>\n",
       "      <td>42.33</td>\n",
       "    </tr>\n",
       "    <tr>\n",
       "      <th>TUR_ANDROID_FEMALE_31_40</th>\n",
       "      <td>41.83</td>\n",
       "    </tr>\n",
       "    <tr>\n",
       "      <th>CAN_ANDROID_MALE_19_23</th>\n",
       "      <td>40.11</td>\n",
       "    </tr>\n",
       "    <tr>\n",
       "      <th>...</th>\n",
       "      <td>...</td>\n",
       "    </tr>\n",
       "    <tr>\n",
       "      <th>TUR_IOS_MALE_41_70</th>\n",
       "      <td>25.05</td>\n",
       "    </tr>\n",
       "    <tr>\n",
       "      <th>TUR_IOS_MALE_19_23</th>\n",
       "      <td>24.83</td>\n",
       "    </tr>\n",
       "    <tr>\n",
       "      <th>FRA_ANDROID_MALE_0_18</th>\n",
       "      <td>24.62</td>\n",
       "    </tr>\n",
       "    <tr>\n",
       "      <th>CAN_ANDROID_FEMALE_24_30</th>\n",
       "      <td>19.00</td>\n",
       "    </tr>\n",
       "    <tr>\n",
       "      <th>DEU_ANDROID_MALE_24_30</th>\n",
       "      <td>19.00</td>\n",
       "    </tr>\n",
       "  </tbody>\n",
       "</table>\n",
       "<p>109 rows × 1 columns</p>\n",
       "</div>"
      ],
      "text/plain": [
       "                          PRICE\n",
       "CUSTOMERS_LEVEL_BASED          \n",
       "FRA_ANDROID_FEMALE_24_30  45.43\n",
       "TUR_IOS_MALE_24_30        45.00\n",
       "TUR_IOS_MALE_31_40        42.33\n",
       "TUR_ANDROID_FEMALE_31_40  41.83\n",
       "CAN_ANDROID_MALE_19_23    40.11\n",
       "...                         ...\n",
       "TUR_IOS_MALE_41_70        25.05\n",
       "TUR_IOS_MALE_19_23        24.83\n",
       "FRA_ANDROID_MALE_0_18     24.62\n",
       "CAN_ANDROID_FEMALE_24_30  19.00\n",
       "DEU_ANDROID_MALE_24_30    19.00\n",
       "\n",
       "[109 rows x 1 columns]"
      ]
     },
     "execution_count": 122,
     "metadata": {},
     "output_type": "execute_result"
    }
   ],
   "source": [
    "agg_df.groupby(\"CUSTOMERS_LEVEL_BASED\").agg({\"PRICE\": \"mean\"}).sort_values(by = \"PRICE\", ascending = False)"
   ]
  },
  {
   "cell_type": "code",
   "execution_count": null,
   "id": "7ef3d709-a31b-4879-90ca-c9bd3feb2bbc",
   "metadata": {},
   "outputs": [],
   "source": [
    "# 4) Dividing customers into 4 segments based on PRICE, using the CUSTOMERS_LEVEL_BASED column."
   ]
  },
  {
   "cell_type": "code",
   "execution_count": 123,
   "id": "a0dcfa50-0a04-4bf1-bf91-3ba9e0937851",
   "metadata": {},
   "outputs": [
    {
     "data": {
      "text/html": [
       "<div>\n",
       "<style scoped>\n",
       "    .dataframe tbody tr th:only-of-type {\n",
       "        vertical-align: middle;\n",
       "    }\n",
       "\n",
       "    .dataframe tbody tr th {\n",
       "        vertical-align: top;\n",
       "    }\n",
       "\n",
       "    .dataframe thead th {\n",
       "        text-align: right;\n",
       "    }\n",
       "</style>\n",
       "<table border=\"1\" class=\"dataframe\">\n",
       "  <thead>\n",
       "    <tr style=\"text-align: right;\">\n",
       "      <th></th>\n",
       "      <th>COUNTRY</th>\n",
       "      <th>SOURCE</th>\n",
       "      <th>SEX</th>\n",
       "      <th>AGE</th>\n",
       "      <th>PRICE</th>\n",
       "      <th>AGE_CAT</th>\n",
       "      <th>SEGMENT</th>\n",
       "      <th>CUSTOMERS_LEVEL_BASED</th>\n",
       "    </tr>\n",
       "  </thead>\n",
       "  <tbody>\n",
       "    <tr>\n",
       "      <th>308</th>\n",
       "      <td>usa</td>\n",
       "      <td>android</td>\n",
       "      <td>male</td>\n",
       "      <td>34</td>\n",
       "      <td>29.00</td>\n",
       "      <td>31_40</td>\n",
       "      <td>D</td>\n",
       "      <td>USA_ANDROID_MALE_31_40</td>\n",
       "    </tr>\n",
       "    <tr>\n",
       "      <th>311</th>\n",
       "      <td>usa</td>\n",
       "      <td>android</td>\n",
       "      <td>female</td>\n",
       "      <td>30</td>\n",
       "      <td>29.00</td>\n",
       "      <td>24_30</td>\n",
       "      <td>D</td>\n",
       "      <td>USA_ANDROID_FEMALE_24_30</td>\n",
       "    </tr>\n",
       "    <tr>\n",
       "      <th>220</th>\n",
       "      <td>usa</td>\n",
       "      <td>android</td>\n",
       "      <td>female</td>\n",
       "      <td>15</td>\n",
       "      <td>32.67</td>\n",
       "      <td>0_18</td>\n",
       "      <td>C</td>\n",
       "      <td>USA_ANDROID_FEMALE_0_18</td>\n",
       "    </tr>\n",
       "    <tr>\n",
       "      <th>73</th>\n",
       "      <td>can</td>\n",
       "      <td>ios</td>\n",
       "      <td>male</td>\n",
       "      <td>15</td>\n",
       "      <td>37.57</td>\n",
       "      <td>0_18</td>\n",
       "      <td>A</td>\n",
       "      <td>CAN_IOS_MALE_0_18</td>\n",
       "    </tr>\n",
       "    <tr>\n",
       "      <th>130</th>\n",
       "      <td>usa</td>\n",
       "      <td>android</td>\n",
       "      <td>male</td>\n",
       "      <td>18</td>\n",
       "      <td>35.19</td>\n",
       "      <td>0_18</td>\n",
       "      <td>B</td>\n",
       "      <td>USA_ANDROID_MALE_0_18</td>\n",
       "    </tr>\n",
       "    <tr>\n",
       "      <th>178</th>\n",
       "      <td>deu</td>\n",
       "      <td>ios</td>\n",
       "      <td>female</td>\n",
       "      <td>22</td>\n",
       "      <td>34.00</td>\n",
       "      <td>19_23</td>\n",
       "      <td>C</td>\n",
       "      <td>DEU_IOS_FEMALE_19_23</td>\n",
       "    </tr>\n",
       "    <tr>\n",
       "      <th>78</th>\n",
       "      <td>tur</td>\n",
       "      <td>ios</td>\n",
       "      <td>female</td>\n",
       "      <td>20</td>\n",
       "      <td>37.33</td>\n",
       "      <td>19_23</td>\n",
       "      <td>A</td>\n",
       "      <td>TUR_IOS_FEMALE_19_23</td>\n",
       "    </tr>\n",
       "    <tr>\n",
       "      <th>229</th>\n",
       "      <td>usa</td>\n",
       "      <td>android</td>\n",
       "      <td>male</td>\n",
       "      <td>21</td>\n",
       "      <td>32.33</td>\n",
       "      <td>19_23</td>\n",
       "      <td>C</td>\n",
       "      <td>USA_ANDROID_MALE_19_23</td>\n",
       "    </tr>\n",
       "    <tr>\n",
       "      <th>135</th>\n",
       "      <td>usa</td>\n",
       "      <td>android</td>\n",
       "      <td>female</td>\n",
       "      <td>31</td>\n",
       "      <td>35.00</td>\n",
       "      <td>31_40</td>\n",
       "      <td>B</td>\n",
       "      <td>USA_ANDROID_FEMALE_31_40</td>\n",
       "    </tr>\n",
       "    <tr>\n",
       "      <th>16</th>\n",
       "      <td>bra</td>\n",
       "      <td>android</td>\n",
       "      <td>female</td>\n",
       "      <td>43</td>\n",
       "      <td>44.00</td>\n",
       "      <td>41_70</td>\n",
       "      <td>A</td>\n",
       "      <td>BRA_ANDROID_FEMALE_41_70</td>\n",
       "    </tr>\n",
       "  </tbody>\n",
       "</table>\n",
       "</div>"
      ],
      "text/plain": [
       "    COUNTRY   SOURCE     SEX AGE  PRICE AGE_CAT SEGMENT     CUSTOMERS_LEVEL_BASED\n",
       "308     usa  android    male  34  29.00   31_40       D    USA_ANDROID_MALE_31_40\n",
       "311     usa  android  female  30  29.00   24_30       D  USA_ANDROID_FEMALE_24_30\n",
       "220     usa  android  female  15  32.67    0_18       C   USA_ANDROID_FEMALE_0_18\n",
       "73      can      ios    male  15  37.57    0_18       A         CAN_IOS_MALE_0_18\n",
       "130     usa  android    male  18  35.19    0_18       B     USA_ANDROID_MALE_0_18\n",
       "178     deu      ios  female  22  34.00   19_23       C      DEU_IOS_FEMALE_19_23\n",
       "78      tur      ios  female  20  37.33   19_23       A      TUR_IOS_FEMALE_19_23\n",
       "229     usa  android    male  21  32.33   19_23       C    USA_ANDROID_MALE_19_23\n",
       "135     usa  android  female  31  35.00   31_40       B  USA_ANDROID_FEMALE_31_40\n",
       "16      bra  android  female  43  44.00   41_70       A  BRA_ANDROID_FEMALE_41_70"
      ]
     },
     "execution_count": 123,
     "metadata": {},
     "output_type": "execute_result"
    }
   ],
   "source": [
    "agg_df.sample(10)"
   ]
  },
  {
   "cell_type": "code",
   "execution_count": 90,
   "id": "dc3f2575-f1a7-4b8d-b6a5-8c0e1fddb54e",
   "metadata": {},
   "outputs": [],
   "source": [
    "agg_df[\"SEGMENT\"] = pd.qcut(agg_df[\"PRICE\"], q = 4, labels = [\"D\", \"C\", \"B\", \"A\"])"
   ]
  },
  {
   "cell_type": "code",
   "execution_count": 112,
   "id": "d3684fd3-02ce-42ca-94d1-af96882ce3c7",
   "metadata": {},
   "outputs": [
    {
     "name": "stderr",
     "output_type": "stream",
     "text": [
      "C:\\Users\\Excalibur\\AppData\\Local\\Temp\\ipykernel_34436\\1166462556.py:1: FutureWarning: The default of observed=False is deprecated and will be changed to True in a future version of pandas. Pass observed=False to retain current behavior or observed=True to adopt the future default and silence this warning.\n",
      "  agg_df.groupby(\"SEGMENT\").agg({\"PRICE\": [\"mean\", \"sum\", \"min\", \"max\", \"count\"]})\n"
     ]
    },
    {
     "data": {
      "text/html": [
       "<div>\n",
       "<style scoped>\n",
       "    .dataframe tbody tr th:only-of-type {\n",
       "        vertical-align: middle;\n",
       "    }\n",
       "\n",
       "    .dataframe tbody tr th {\n",
       "        vertical-align: top;\n",
       "    }\n",
       "\n",
       "    .dataframe thead tr th {\n",
       "        text-align: left;\n",
       "    }\n",
       "\n",
       "    .dataframe thead tr:last-of-type th {\n",
       "        text-align: right;\n",
       "    }\n",
       "</style>\n",
       "<table border=\"1\" class=\"dataframe\">\n",
       "  <thead>\n",
       "    <tr>\n",
       "      <th></th>\n",
       "      <th colspan=\"5\" halign=\"left\">PRICE</th>\n",
       "    </tr>\n",
       "    <tr>\n",
       "      <th></th>\n",
       "      <th>mean</th>\n",
       "      <th>sum</th>\n",
       "      <th>min</th>\n",
       "      <th>max</th>\n",
       "      <th>count</th>\n",
       "    </tr>\n",
       "    <tr>\n",
       "      <th>SEGMENT</th>\n",
       "      <th></th>\n",
       "      <th></th>\n",
       "      <th></th>\n",
       "      <th></th>\n",
       "      <th></th>\n",
       "    </tr>\n",
       "  </thead>\n",
       "  <tbody>\n",
       "    <tr>\n",
       "      <th>D</th>\n",
       "      <td>27.30</td>\n",
       "      <td>2375.33</td>\n",
       "      <td>9.00</td>\n",
       "      <td>31.11</td>\n",
       "      <td>87</td>\n",
       "    </tr>\n",
       "    <tr>\n",
       "      <th>C</th>\n",
       "      <td>32.93</td>\n",
       "      <td>3128.67</td>\n",
       "      <td>31.17</td>\n",
       "      <td>34.00</td>\n",
       "      <td>95</td>\n",
       "    </tr>\n",
       "    <tr>\n",
       "      <th>B</th>\n",
       "      <td>35.44</td>\n",
       "      <td>2870.33</td>\n",
       "      <td>34.19</td>\n",
       "      <td>37.00</td>\n",
       "      <td>81</td>\n",
       "    </tr>\n",
       "    <tr>\n",
       "      <th>A</th>\n",
       "      <td>41.43</td>\n",
       "      <td>3521.95</td>\n",
       "      <td>37.10</td>\n",
       "      <td>59.00</td>\n",
       "      <td>85</td>\n",
       "    </tr>\n",
       "  </tbody>\n",
       "</table>\n",
       "</div>"
      ],
      "text/plain": [
       "         PRICE                             \n",
       "          mean      sum    min    max count\n",
       "SEGMENT                                    \n",
       "D        27.30  2375.33   9.00  31.11    87\n",
       "C        32.93  3128.67  31.17  34.00    95\n",
       "B        35.44  2870.33  34.19  37.00    81\n",
       "A        41.43  3521.95  37.10  59.00    85"
      ]
     },
     "execution_count": 112,
     "metadata": {},
     "output_type": "execute_result"
    }
   ],
   "source": [
    "agg_df.groupby(\"SEGMENT\").agg({\"PRICE\": [\"mean\", \"sum\", \"min\", \"max\", \"count\"]})"
   ]
  },
  {
   "cell_type": "code",
   "execution_count": null,
   "id": "ccc81740-44b9-4b93-b4dd-077b437a829b",
   "metadata": {},
   "outputs": [],
   "source": [
    "# Filtering CUSTOMER_LEVEL_BASED and PRICE"
   ]
  },
  {
   "cell_type": "code",
   "execution_count": 124,
   "id": "2d977ee8-1167-4f0b-9f0b-f7ef627930ff",
   "metadata": {},
   "outputs": [
    {
     "data": {
      "text/html": [
       "<div>\n",
       "<style scoped>\n",
       "    .dataframe tbody tr th:only-of-type {\n",
       "        vertical-align: middle;\n",
       "    }\n",
       "\n",
       "    .dataframe tbody tr th {\n",
       "        vertical-align: top;\n",
       "    }\n",
       "\n",
       "    .dataframe thead th {\n",
       "        text-align: right;\n",
       "    }\n",
       "</style>\n",
       "<table border=\"1\" class=\"dataframe\">\n",
       "  <thead>\n",
       "    <tr style=\"text-align: right;\">\n",
       "      <th></th>\n",
       "      <th>CUSTOMERS_LEVEL_BASED</th>\n",
       "      <th>PRICE</th>\n",
       "      <th>SEGMENT</th>\n",
       "    </tr>\n",
       "  </thead>\n",
       "  <tbody>\n",
       "    <tr>\n",
       "      <th>328</th>\n",
       "      <td>USA_ANDROID_MALE_41_70</td>\n",
       "      <td>25.67</td>\n",
       "      <td>D</td>\n",
       "    </tr>\n",
       "    <tr>\n",
       "      <th>156</th>\n",
       "      <td>USA_ANDROID_FEMALE_0_18</td>\n",
       "      <td>34.62</td>\n",
       "      <td>B</td>\n",
       "    </tr>\n",
       "    <tr>\n",
       "      <th>264</th>\n",
       "      <td>DEU_ANDROID_FEMALE_19_23</td>\n",
       "      <td>31.00</td>\n",
       "      <td>D</td>\n",
       "    </tr>\n",
       "    <tr>\n",
       "      <th>150</th>\n",
       "      <td>USA_ANDROID_MALE_19_23</td>\n",
       "      <td>34.71</td>\n",
       "      <td>B</td>\n",
       "    </tr>\n",
       "    <tr>\n",
       "      <th>207</th>\n",
       "      <td>USA_ANDROID_MALE_41_70</td>\n",
       "      <td>33.00</td>\n",
       "      <td>C</td>\n",
       "    </tr>\n",
       "    <tr>\n",
       "      <th>75</th>\n",
       "      <td>FRA_ANDROID_FEMALE_0_18</td>\n",
       "      <td>37.57</td>\n",
       "      <td>A</td>\n",
       "    </tr>\n",
       "    <tr>\n",
       "      <th>345</th>\n",
       "      <td>CAN_ANDROID_FEMALE_24_30</td>\n",
       "      <td>19.00</td>\n",
       "      <td>D</td>\n",
       "    </tr>\n",
       "    <tr>\n",
       "      <th>51</th>\n",
       "      <td>DEU_IOS_MALE_0_18</td>\n",
       "      <td>39.00</td>\n",
       "      <td>A</td>\n",
       "    </tr>\n",
       "    <tr>\n",
       "      <th>344</th>\n",
       "      <td>USA_IOS_FEMALE_24_30</td>\n",
       "      <td>19.00</td>\n",
       "      <td>D</td>\n",
       "    </tr>\n",
       "    <tr>\n",
       "      <th>131</th>\n",
       "      <td>BRA_IOS_FEMALE_31_40</td>\n",
       "      <td>35.11</td>\n",
       "      <td>B</td>\n",
       "    </tr>\n",
       "  </tbody>\n",
       "</table>\n",
       "</div>"
      ],
      "text/plain": [
       "        CUSTOMERS_LEVEL_BASED  PRICE SEGMENT\n",
       "328    USA_ANDROID_MALE_41_70  25.67       D\n",
       "156   USA_ANDROID_FEMALE_0_18  34.62       B\n",
       "264  DEU_ANDROID_FEMALE_19_23  31.00       D\n",
       "150    USA_ANDROID_MALE_19_23  34.71       B\n",
       "207    USA_ANDROID_MALE_41_70  33.00       C\n",
       "75    FRA_ANDROID_FEMALE_0_18  37.57       A\n",
       "345  CAN_ANDROID_FEMALE_24_30  19.00       D\n",
       "51          DEU_IOS_MALE_0_18  39.00       A\n",
       "344      USA_IOS_FEMALE_24_30  19.00       D\n",
       "131      BRA_IOS_FEMALE_31_40  35.11       B"
      ]
     },
     "execution_count": 124,
     "metadata": {},
     "output_type": "execute_result"
    }
   ],
   "source": [
    "agg_df.loc[:, [\"CUSTOMERS_LEVEL_BASED\", \"PRICE\", \"SEGMENT\"]].sample(10)"
   ]
  },
  {
   "cell_type": "code",
   "execution_count": null,
   "id": "104400f2-eb7f-4163-ab59-71ce42c8433f",
   "metadata": {},
   "outputs": [],
   "source": [
    "# 5) Classifying new/potential customers and estimating how much income they can bring."
   ]
  },
  {
   "cell_type": "code",
   "execution_count": null,
   "id": "b7b99ac1-1f74-497f-a60f-60256c535ae1",
   "metadata": {},
   "outputs": [],
   "source": [
    "# Which \"Segment\" does a \"33\" year old \"Turkish\" \"Woman\" using \"Android\" fall into and how much income can we expect to earn from her on average?"
   ]
  },
  {
   "cell_type": "code",
   "execution_count": 116,
   "id": "841ebde7-e44f-4cbc-94a9-9b5e0f6e113d",
   "metadata": {},
   "outputs": [],
   "source": [
    "new_potential_user = \"TUR_ANDROID_FEMALE_31_40\""
   ]
  },
  {
   "cell_type": "code",
   "execution_count": null,
   "id": "9fae514d-9dd2-4ea1-84d0-0096fe69fb2c",
   "metadata": {},
   "outputs": [],
   "source": [
    "# Attributes for this user level."
   ]
  },
  {
   "cell_type": "code",
   "execution_count": 137,
   "id": "3c0f5a77-5672-4a1d-9c7d-cd50d4ade165",
   "metadata": {},
   "outputs": [
    {
     "data": {
      "text/html": [
       "<div>\n",
       "<style scoped>\n",
       "    .dataframe tbody tr th:only-of-type {\n",
       "        vertical-align: middle;\n",
       "    }\n",
       "\n",
       "    .dataframe tbody tr th {\n",
       "        vertical-align: top;\n",
       "    }\n",
       "\n",
       "    .dataframe thead th {\n",
       "        text-align: right;\n",
       "    }\n",
       "</style>\n",
       "<table border=\"1\" class=\"dataframe\">\n",
       "  <thead>\n",
       "    <tr style=\"text-align: right;\">\n",
       "      <th></th>\n",
       "      <th>COUNTRY</th>\n",
       "      <th>SOURCE</th>\n",
       "      <th>SEX</th>\n",
       "      <th>AGE</th>\n",
       "      <th>PRICE</th>\n",
       "      <th>AGE_CAT</th>\n",
       "      <th>SEGMENT</th>\n",
       "      <th>CUSTOMERS_LEVEL_BASED</th>\n",
       "    </tr>\n",
       "  </thead>\n",
       "  <tbody>\n",
       "    <tr>\n",
       "      <th>18</th>\n",
       "      <td>tur</td>\n",
       "      <td>android</td>\n",
       "      <td>female</td>\n",
       "      <td>32</td>\n",
       "      <td>43.00</td>\n",
       "      <td>31_40</td>\n",
       "      <td>A</td>\n",
       "      <td>TUR_ANDROID_FEMALE_31_40</td>\n",
       "    </tr>\n",
       "    <tr>\n",
       "      <th>35</th>\n",
       "      <td>tur</td>\n",
       "      <td>android</td>\n",
       "      <td>female</td>\n",
       "      <td>31</td>\n",
       "      <td>40.67</td>\n",
       "      <td>31_40</td>\n",
       "      <td>A</td>\n",
       "      <td>TUR_ANDROID_FEMALE_31_40</td>\n",
       "    </tr>\n",
       "  </tbody>\n",
       "</table>\n",
       "</div>"
      ],
      "text/plain": [
       "   COUNTRY   SOURCE     SEX AGE  PRICE AGE_CAT SEGMENT     CUSTOMERS_LEVEL_BASED\n",
       "18     tur  android  female  32  43.00   31_40       A  TUR_ANDROID_FEMALE_31_40\n",
       "35     tur  android  female  31  40.67   31_40       A  TUR_ANDROID_FEMALE_31_40"
      ]
     },
     "execution_count": 137,
     "metadata": {},
     "output_type": "execute_result"
    }
   ],
   "source": [
    "agg_df.loc[agg_df[\"CUSTOMERS_LEVEL_BASED\"] == new_potential_user, :]"
   ]
  },
  {
   "cell_type": "code",
   "execution_count": null,
   "id": "efe74b7a-8ab0-4775-9ebb-fd90892702ed",
   "metadata": {},
   "outputs": [],
   "source": [
    "# PRICE average for this user level."
   ]
  },
  {
   "cell_type": "code",
   "execution_count": 139,
   "id": "67a57be1-5bbf-4094-aabf-b446fee4dd04",
   "metadata": {},
   "outputs": [
    {
     "data": {
      "text/plain": [
       "PRICE    41.83\n",
       "dtype: float64"
      ]
     },
     "execution_count": 139,
     "metadata": {},
     "output_type": "execute_result"
    }
   ],
   "source": [
    "agg_df.loc[agg_df[\"CUSTOMERS_LEVEL_BASED\"] == new_potential_user ,:].agg({\"PRICE\": \"mean\"})"
   ]
  },
  {
   "cell_type": "code",
   "execution_count": null,
   "id": "c599d541-e598-4c09-8ea7-4690141dde2a",
   "metadata": {},
   "outputs": [],
   "source": [
    "# Which \"Segment\" does a \"29\" year old \"French\" \"Man\" using \"IOS\" fall into and how much income can we expect to earn from his on average?"
   ]
  },
  {
   "cell_type": "code",
   "execution_count": 142,
   "id": "0ea164a1-4fa7-49d7-937f-167aa7d3c2a6",
   "metadata": {},
   "outputs": [],
   "source": [
    "new_potential_user2 = \"FRA_IOS_MALE_24_30\""
   ]
  },
  {
   "cell_type": "code",
   "execution_count": null,
   "id": "2d0abf02-1c3c-4290-8209-69b45d10e21d",
   "metadata": {},
   "outputs": [],
   "source": [
    "# Attributes for this user level."
   ]
  },
  {
   "cell_type": "code",
   "execution_count": 143,
   "id": "5bd39d3b-caa7-492a-9a5b-ca0c769309ed",
   "metadata": {},
   "outputs": [
    {
     "data": {
      "text/html": [
       "<div>\n",
       "<style scoped>\n",
       "    .dataframe tbody tr th:only-of-type {\n",
       "        vertical-align: middle;\n",
       "    }\n",
       "\n",
       "    .dataframe tbody tr th {\n",
       "        vertical-align: top;\n",
       "    }\n",
       "\n",
       "    .dataframe thead th {\n",
       "        text-align: right;\n",
       "    }\n",
       "</style>\n",
       "<table border=\"1\" class=\"dataframe\">\n",
       "  <thead>\n",
       "    <tr style=\"text-align: right;\">\n",
       "      <th></th>\n",
       "      <th>COUNTRY</th>\n",
       "      <th>SOURCE</th>\n",
       "      <th>SEX</th>\n",
       "      <th>AGE</th>\n",
       "      <th>PRICE</th>\n",
       "      <th>AGE_CAT</th>\n",
       "      <th>SEGMENT</th>\n",
       "      <th>CUSTOMERS_LEVEL_BASED</th>\n",
       "    </tr>\n",
       "  </thead>\n",
       "  <tbody>\n",
       "    <tr>\n",
       "      <th>169</th>\n",
       "      <td>fra</td>\n",
       "      <td>ios</td>\n",
       "      <td>male</td>\n",
       "      <td>26</td>\n",
       "      <td>34.0</td>\n",
       "      <td>24_30</td>\n",
       "      <td>C</td>\n",
       "      <td>FRA_IOS_MALE_24_30</td>\n",
       "    </tr>\n",
       "    <tr>\n",
       "      <th>291</th>\n",
       "      <td>fra</td>\n",
       "      <td>ios</td>\n",
       "      <td>male</td>\n",
       "      <td>27</td>\n",
       "      <td>29.0</td>\n",
       "      <td>24_30</td>\n",
       "      <td>D</td>\n",
       "      <td>FRA_IOS_MALE_24_30</td>\n",
       "    </tr>\n",
       "  </tbody>\n",
       "</table>\n",
       "</div>"
      ],
      "text/plain": [
       "    COUNTRY SOURCE   SEX AGE  PRICE AGE_CAT SEGMENT CUSTOMERS_LEVEL_BASED\n",
       "169     fra    ios  male  26   34.0   24_30       C    FRA_IOS_MALE_24_30\n",
       "291     fra    ios  male  27   29.0   24_30       D    FRA_IOS_MALE_24_30"
      ]
     },
     "execution_count": 143,
     "metadata": {},
     "output_type": "execute_result"
    }
   ],
   "source": [
    "agg_df.loc[agg_df[\"CUSTOMERS_LEVEL_BASED\"] == new_potential_user2, :]"
   ]
  },
  {
   "cell_type": "code",
   "execution_count": null,
   "id": "cff023e4-6158-495b-b264-3c640aeb0197",
   "metadata": {},
   "outputs": [],
   "source": [
    "# PRICE average for this user level."
   ]
  },
  {
   "cell_type": "code",
   "execution_count": 144,
   "id": "1fe550c1-7f1e-4b5d-acbe-cb6fecc795db",
   "metadata": {},
   "outputs": [
    {
     "data": {
      "text/plain": [
       "PRICE    31.5\n",
       "dtype: float64"
      ]
     },
     "execution_count": 144,
     "metadata": {},
     "output_type": "execute_result"
    }
   ],
   "source": [
    "agg_df.loc[agg_df[\"CUSTOMERS_LEVEL_BASED\"] == new_potential_user2 ,:].agg({\"PRICE\": \"mean\"})"
   ]
  }
 ],
 "metadata": {
  "kernelspec": {
   "display_name": "Python 3 (ipykernel)",
   "language": "python",
   "name": "python3"
  },
  "language_info": {
   "codemirror_mode": {
    "name": "ipython",
    "version": 3
   },
   "file_extension": ".py",
   "mimetype": "text/x-python",
   "name": "python",
   "nbconvert_exporter": "python",
   "pygments_lexer": "ipython3",
   "version": "3.11.7"
  }
 },
 "nbformat": 4,
 "nbformat_minor": 5
}
