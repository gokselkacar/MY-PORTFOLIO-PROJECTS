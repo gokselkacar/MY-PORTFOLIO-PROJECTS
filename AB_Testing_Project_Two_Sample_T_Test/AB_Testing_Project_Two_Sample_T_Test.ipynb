{
 "cells": [
  {
   "cell_type": "code",
   "execution_count": null,
   "id": "332de5a8-6be8-4396-9a2e-708ed9124f63",
   "metadata": {},
   "outputs": [],
   "source": [
    "## Comparison of Conversion of A/B Testing - Bidding Methods ##"
   ]
  },
  {
   "cell_type": "code",
   "execution_count": null,
   "id": "ff57db26-80a1-4201-b77f-cd5f27f2ac49",
   "metadata": {},
   "outputs": [],
   "source": [
    "# Hypothesis testing: It is a statistical analysis method used to test a belief/argument.\n",
    "# A/B Testing: It is used to measure the effect of a change between 2 groups or to compare the average/rate of 2 groups.\n",
    "# The main purpose of group comparisons is to test whether possible differences occur by chance."
   ]
  },
  {
   "cell_type": "code",
   "execution_count": null,
   "id": "39dc3417-e67f-4900-92b8-513ec54d0962",
   "metadata": {},
   "outputs": [],
   "source": [
    "## PROJECT STEPS ##\n",
    "\n",
    "# 1. Business Problem\n",
    "# 2. Data Understanding & Preparing\n",
    "# 3. A/B Testing (Independent Two-Sample T-Test)"
   ]
  },
  {
   "cell_type": "code",
   "execution_count": null,
   "id": "9d0ba8b3-ab10-4608-9615-3e01c18390ab",
   "metadata": {},
   "outputs": [],
   "source": [
    "# 1. Business Problem # \n",
    "\n",
    "# Facebook recently introduced a new bid type called \"average bidding\" as an alternative to the existing bidding type called \"maximum bidding\".\n",
    "# One of our customers, bombabomba.com, decided to test this new feature and wanted to run an A/B test to see if average bidding would convert more than maximum bidding.\n",
    "# The A/B test has been running for 1 month and bombabomba.com now expects you to analyze the results of this A/B test.\n",
    "# The ultimate success metric for bombabomba.com is Purchase. Therefore, the focus for statistical tests should be on the Purchase metric."
   ]
  },
  {
   "cell_type": "code",
   "execution_count": null,
   "id": "88ddd62c-0f46-4532-846e-59a77fd598a0",
   "metadata": {},
   "outputs": [],
   "source": [
    "# Dataset Story\n",
    "\n",
    "# This dataset, which contains the company's website information, includes information such as the number of ads users have seen and clicked, as well as the earnings information from this.\n",
    "# There are two separate datasets, Control and Test groups. Maximum Bidding was applied to the Control group, and Average Bidding was applied to the Test group.\n",
    "# These datasets are located in separate sheets of AB_Testing.xlsx Excel.\n",
    "\n",
    "# Impression: Number of ad views\n",
    "# Click: Number of clicks on the displayed ad\n",
    "# Purchase: Number of products purchased after clicked ads\n",
    "# Earning: Earnings obtained after purchased products\n",
    "\n",
    "# Purpose:\n",
    "# For Maximum Bidding and Average Bidding, we will compare the purchase averages. We will use the Independent Two Sample T-Test.\n",
    "# A/B Testing: Used to compare between 2 group averages."
   ]
  },
  {
   "cell_type": "code",
   "execution_count": null,
   "id": "61e2d725-97d6-477b-8998-bd401ebf6400",
   "metadata": {},
   "outputs": [],
   "source": [
    "# 2. Understanding and Preparing Data #"
   ]
  },
  {
   "cell_type": "code",
   "execution_count": 2,
   "id": "86305940-9e2b-4603-99d8-5faca0d8dfdc",
   "metadata": {},
   "outputs": [],
   "source": [
    "import pandas as pd\n",
    "import numpy as np\n",
    "import matplotlib.pyplot as plt\n",
    "import seaborn as sns\n",
    "import itertools"
   ]
  },
  {
   "cell_type": "code",
   "execution_count": 3,
   "id": "e4567be6-e419-40e6-ac9e-23c9a1fe5871",
   "metadata": {},
   "outputs": [],
   "source": [
    "import statsmodels.stats.api as sms\n",
    "from scipy.stats import ttest_1samp, shapiro, levene, ttest_ind, mannwhitneyu, \\\n",
    "    pearsonr, spearmanr, kendalltau, f_oneway, kruskal, chi2_contingency\n",
    "from statsmodels.stats.proportion import proportions_ztest"
   ]
  },
  {
   "cell_type": "code",
   "execution_count": 4,
   "id": "7cfbb05f-dcd6-4370-8979-ae089ccf3114",
   "metadata": {},
   "outputs": [],
   "source": [
    "pd.set_option('display.max_columns', None)\n",
    "pd.set_option('display.max_rows', 10)\n",
    "pd.set_option(\"display.width\", 500)\n",
    "pd.set_option(\"display.precision\", 2)"
   ]
  },
  {
   "cell_type": "code",
   "execution_count": 5,
   "id": "570e075f-cd94-4376-94a4-98b9fd29d86f",
   "metadata": {},
   "outputs": [
    {
     "name": "stdout",
     "output_type": "stream",
     "text": [
      "Sheet Names in the Excel File: ['Control Group', 'Test Group']\n"
     ]
    }
   ],
   "source": [
    "file_path  = pd.ExcelFile(\"ab_testing.xlsx\")\n",
    "sheet_names = file_path.sheet_names\n",
    "print(\"Sheet Names in the Excel File:\", sheet_names)    \n",
    "\n",
    "# 'Control Group', 'Test Group' "
   ]
  },
  {
   "cell_type": "code",
   "execution_count": null,
   "id": "669be943-b709-4b6d-827e-6f8b51a993ce",
   "metadata": {},
   "outputs": [],
   "source": [
    "# 3. A/B Testing #"
   ]
  },
  {
   "cell_type": "code",
   "execution_count": null,
   "id": "23a637ab-7e6f-4631-89e4-41da135df71c",
   "metadata": {},
   "outputs": [],
   "source": [
    "# A/B Testing Steps:\n",
    "\n",
    "# 1) Defining Hypotheses\n",
    "# 2) Assumption Check\n",
    " # - Normality Assumption\n",
    " # - Variance Homogeneity Assumption\n",
    "# 3) Testing Hypotheses\n",
    " # - If assumptions are met: Independent two-sample t-test (parametric test)\n",
    " # - If assumptions are not met: Mann-Whitney U test (non-parametric test)\n",
    "# 4) Interpreting the results according to the p-value (H0 is rejected if p < 0.05)\n",
    "\n",
    "# Notes:\n",
    "# Normality Assumption must be met for both the control group and the test group.\n",
    "# If the Normality Assumption is not met, we apply the Mann-Whitney test directly. If only Variance Homogeneity is not met, the two-sample t-test is applied but the argument is entered (equal_var=True).\n",
    "# The argument input is as follows: test_stat, p-value = ttest_ind(df_control['Purchase'], df_test['Purchase'], equal_var=True)\n",
    "# It may be useful to perform outlier analysis and correction before normality analysis."
   ]
  },
  {
   "cell_type": "code",
   "execution_count": null,
   "id": "f3717136-1ff3-46fc-b166-1c8a8edfbae3",
   "metadata": {},
   "outputs": [],
   "source": [
    "## Data Preparation and Analysis"
   ]
  },
  {
   "cell_type": "code",
   "execution_count": 6,
   "id": "98c74614-804a-4965-923d-06bd36540781",
   "metadata": {},
   "outputs": [],
   "source": [
    "# Assign control and test group data to separate variables.\n",
    "\n",
    "df_control = pd.read_excel(\"ab_testing.xlsx\", sheet_name='Control Group')\n",
    "df_test = pd.read_excel(\"ab_testing.xlsx\", sheet_name='Test Group')"
   ]
  },
  {
   "cell_type": "code",
   "execution_count": 9,
   "id": "945fd84c-c06c-4af9-a5ba-98c7edc8e68e",
   "metadata": {},
   "outputs": [
    {
     "data": {
      "text/html": [
       "<div>\n",
       "<style scoped>\n",
       "    .dataframe tbody tr th:only-of-type {\n",
       "        vertical-align: middle;\n",
       "    }\n",
       "\n",
       "    .dataframe tbody tr th {\n",
       "        vertical-align: top;\n",
       "    }\n",
       "\n",
       "    .dataframe thead th {\n",
       "        text-align: right;\n",
       "    }\n",
       "</style>\n",
       "<table border=\"1\" class=\"dataframe\">\n",
       "  <thead>\n",
       "    <tr style=\"text-align: right;\">\n",
       "      <th></th>\n",
       "      <th>Impression</th>\n",
       "      <th>Click</th>\n",
       "      <th>Purchase</th>\n",
       "      <th>Earning</th>\n",
       "    </tr>\n",
       "  </thead>\n",
       "  <tbody>\n",
       "    <tr>\n",
       "      <th>0</th>\n",
       "      <td>82529.46</td>\n",
       "      <td>6090.08</td>\n",
       "      <td>665.21</td>\n",
       "      <td>2311.28</td>\n",
       "    </tr>\n",
       "    <tr>\n",
       "      <th>1</th>\n",
       "      <td>98050.45</td>\n",
       "      <td>3382.86</td>\n",
       "      <td>315.08</td>\n",
       "      <td>1742.81</td>\n",
       "    </tr>\n",
       "    <tr>\n",
       "      <th>2</th>\n",
       "      <td>82696.02</td>\n",
       "      <td>4167.97</td>\n",
       "      <td>458.08</td>\n",
       "      <td>1797.83</td>\n",
       "    </tr>\n",
       "    <tr>\n",
       "      <th>3</th>\n",
       "      <td>109914.40</td>\n",
       "      <td>4910.88</td>\n",
       "      <td>487.09</td>\n",
       "      <td>1696.23</td>\n",
       "    </tr>\n",
       "    <tr>\n",
       "      <th>4</th>\n",
       "      <td>108457.76</td>\n",
       "      <td>5987.66</td>\n",
       "      <td>441.03</td>\n",
       "      <td>1543.72</td>\n",
       "    </tr>\n",
       "  </tbody>\n",
       "</table>\n",
       "</div>"
      ],
      "text/plain": [
       "   Impression    Click  Purchase  Earning\n",
       "0    82529.46  6090.08    665.21  2311.28\n",
       "1    98050.45  3382.86    315.08  1742.81\n",
       "2    82696.02  4167.97    458.08  1797.83\n",
       "3   109914.40  4910.88    487.09  1696.23\n",
       "4   108457.76  5987.66    441.03  1543.72"
      ]
     },
     "execution_count": 9,
     "metadata": {},
     "output_type": "execute_result"
    }
   ],
   "source": [
    "# Maximum Bidding values ​​were assigned to the control group. \n",
    "\n",
    "df_control.head()"
   ]
  },
  {
   "cell_type": "code",
   "execution_count": 12,
   "id": "7ef76b4b-c509-4412-a9d5-10117fcf259a",
   "metadata": {},
   "outputs": [
    {
     "data": {
      "text/html": [
       "<div>\n",
       "<style scoped>\n",
       "    .dataframe tbody tr th:only-of-type {\n",
       "        vertical-align: middle;\n",
       "    }\n",
       "\n",
       "    .dataframe tbody tr th {\n",
       "        vertical-align: top;\n",
       "    }\n",
       "\n",
       "    .dataframe thead th {\n",
       "        text-align: right;\n",
       "    }\n",
       "</style>\n",
       "<table border=\"1\" class=\"dataframe\">\n",
       "  <thead>\n",
       "    <tr style=\"text-align: right;\">\n",
       "      <th></th>\n",
       "      <th>Impression</th>\n",
       "      <th>Click</th>\n",
       "      <th>Purchase</th>\n",
       "      <th>Earning</th>\n",
       "    </tr>\n",
       "  </thead>\n",
       "  <tbody>\n",
       "    <tr>\n",
       "      <th>0</th>\n",
       "      <td>120103.50</td>\n",
       "      <td>3216.55</td>\n",
       "      <td>702.16</td>\n",
       "      <td>1939.61</td>\n",
       "    </tr>\n",
       "    <tr>\n",
       "      <th>1</th>\n",
       "      <td>134775.94</td>\n",
       "      <td>3635.08</td>\n",
       "      <td>834.05</td>\n",
       "      <td>2929.41</td>\n",
       "    </tr>\n",
       "    <tr>\n",
       "      <th>2</th>\n",
       "      <td>107806.62</td>\n",
       "      <td>3057.14</td>\n",
       "      <td>422.93</td>\n",
       "      <td>2526.24</td>\n",
       "    </tr>\n",
       "    <tr>\n",
       "      <th>3</th>\n",
       "      <td>116445.28</td>\n",
       "      <td>4650.47</td>\n",
       "      <td>429.03</td>\n",
       "      <td>2281.43</td>\n",
       "    </tr>\n",
       "    <tr>\n",
       "      <th>4</th>\n",
       "      <td>145082.52</td>\n",
       "      <td>5201.39</td>\n",
       "      <td>749.86</td>\n",
       "      <td>2781.70</td>\n",
       "    </tr>\n",
       "  </tbody>\n",
       "</table>\n",
       "</div>"
      ],
      "text/plain": [
       "   Impression    Click  Purchase  Earning\n",
       "0   120103.50  3216.55    702.16  1939.61\n",
       "1   134775.94  3635.08    834.05  2929.41\n",
       "2   107806.62  3057.14    422.93  2526.24\n",
       "3   116445.28  4650.47    429.03  2281.43\n",
       "4   145082.52  5201.39    749.86  2781.70"
      ]
     },
     "execution_count": 12,
     "metadata": {},
     "output_type": "execute_result"
    }
   ],
   "source": [
    "# Average Bidding values ​​were assigned to the test group.\n",
    "\n",
    "df_test.head()"
   ]
  },
  {
   "cell_type": "code",
   "execution_count": 18,
   "id": "3d608ec9-df2e-462b-9a46-c518c43cab73",
   "metadata": {},
   "outputs": [
    {
     "data": {
      "text/html": [
       "<div>\n",
       "<style scoped>\n",
       "    .dataframe tbody tr th:only-of-type {\n",
       "        vertical-align: middle;\n",
       "    }\n",
       "\n",
       "    .dataframe tbody tr th {\n",
       "        vertical-align: top;\n",
       "    }\n",
       "\n",
       "    .dataframe thead th {\n",
       "        text-align: right;\n",
       "    }\n",
       "</style>\n",
       "<table border=\"1\" class=\"dataframe\">\n",
       "  <thead>\n",
       "    <tr style=\"text-align: right;\">\n",
       "      <th></th>\n",
       "      <th>count</th>\n",
       "      <th>mean</th>\n",
       "      <th>std</th>\n",
       "      <th>min</th>\n",
       "      <th>25%</th>\n",
       "      <th>50%</th>\n",
       "      <th>75%</th>\n",
       "      <th>max</th>\n",
       "    </tr>\n",
       "  </thead>\n",
       "  <tbody>\n",
       "    <tr>\n",
       "      <th>Impression</th>\n",
       "      <td>40.0</td>\n",
       "      <td>101711.45</td>\n",
       "      <td>20302.16</td>\n",
       "      <td>45475.94</td>\n",
       "      <td>85726.69</td>\n",
       "      <td>99790.70</td>\n",
       "      <td>115212.82</td>\n",
       "      <td>147539.34</td>\n",
       "    </tr>\n",
       "    <tr>\n",
       "      <th>Click</th>\n",
       "      <td>40.0</td>\n",
       "      <td>5100.66</td>\n",
       "      <td>1329.99</td>\n",
       "      <td>2189.75</td>\n",
       "      <td>4124.30</td>\n",
       "      <td>5001.22</td>\n",
       "      <td>5923.80</td>\n",
       "      <td>7959.13</td>\n",
       "    </tr>\n",
       "    <tr>\n",
       "      <th>Purchase</th>\n",
       "      <td>40.0</td>\n",
       "      <td>550.89</td>\n",
       "      <td>134.11</td>\n",
       "      <td>267.03</td>\n",
       "      <td>470.10</td>\n",
       "      <td>531.21</td>\n",
       "      <td>637.96</td>\n",
       "      <td>801.80</td>\n",
       "    </tr>\n",
       "    <tr>\n",
       "      <th>Earning</th>\n",
       "      <td>40.0</td>\n",
       "      <td>1908.57</td>\n",
       "      <td>302.92</td>\n",
       "      <td>1253.99</td>\n",
       "      <td>1685.85</td>\n",
       "      <td>1975.16</td>\n",
       "      <td>2119.80</td>\n",
       "      <td>2497.30</td>\n",
       "    </tr>\n",
       "  </tbody>\n",
       "</table>\n",
       "</div>"
      ],
      "text/plain": [
       "            count       mean       std       min       25%       50%        75%        max\n",
       "Impression   40.0  101711.45  20302.16  45475.94  85726.69  99790.70  115212.82  147539.34\n",
       "Click        40.0    5100.66   1329.99   2189.75   4124.30   5001.22    5923.80    7959.13\n",
       "Purchase     40.0     550.89    134.11    267.03    470.10    531.21     637.96     801.80\n",
       "Earning      40.0    1908.57    302.92   1253.99   1685.85   1975.16    2119.80    2497.30"
      ]
     },
     "execution_count": 18,
     "metadata": {},
     "output_type": "execute_result"
    }
   ],
   "source": [
    "# Control group (Maximum Bidding)\n",
    "\n",
    "df_control.describe().T"
   ]
  },
  {
   "cell_type": "code",
   "execution_count": 20,
   "id": "71599dfb-8024-4fd7-9614-e935ff3a5440",
   "metadata": {},
   "outputs": [
    {
     "data": {
      "text/html": [
       "<div>\n",
       "<style scoped>\n",
       "    .dataframe tbody tr th:only-of-type {\n",
       "        vertical-align: middle;\n",
       "    }\n",
       "\n",
       "    .dataframe tbody tr th {\n",
       "        vertical-align: top;\n",
       "    }\n",
       "\n",
       "    .dataframe thead th {\n",
       "        text-align: right;\n",
       "    }\n",
       "</style>\n",
       "<table border=\"1\" class=\"dataframe\">\n",
       "  <thead>\n",
       "    <tr style=\"text-align: right;\">\n",
       "      <th></th>\n",
       "      <th>count</th>\n",
       "      <th>mean</th>\n",
       "      <th>std</th>\n",
       "      <th>min</th>\n",
       "      <th>25%</th>\n",
       "      <th>50%</th>\n",
       "      <th>75%</th>\n",
       "      <th>max</th>\n",
       "    </tr>\n",
       "  </thead>\n",
       "  <tbody>\n",
       "    <tr>\n",
       "      <th>Impression</th>\n",
       "      <td>40.0</td>\n",
       "      <td>120512.41</td>\n",
       "      <td>18807.45</td>\n",
       "      <td>79033.83</td>\n",
       "      <td>112691.97</td>\n",
       "      <td>119291.30</td>\n",
       "      <td>132050.58</td>\n",
       "      <td>158605.92</td>\n",
       "    </tr>\n",
       "    <tr>\n",
       "      <th>Click</th>\n",
       "      <td>40.0</td>\n",
       "      <td>3967.55</td>\n",
       "      <td>923.10</td>\n",
       "      <td>1836.63</td>\n",
       "      <td>3376.82</td>\n",
       "      <td>3931.36</td>\n",
       "      <td>4660.50</td>\n",
       "      <td>6019.70</td>\n",
       "    </tr>\n",
       "    <tr>\n",
       "      <th>Purchase</th>\n",
       "      <td>40.0</td>\n",
       "      <td>582.11</td>\n",
       "      <td>161.15</td>\n",
       "      <td>311.63</td>\n",
       "      <td>444.63</td>\n",
       "      <td>551.36</td>\n",
       "      <td>699.86</td>\n",
       "      <td>889.91</td>\n",
       "    </tr>\n",
       "    <tr>\n",
       "      <th>Earning</th>\n",
       "      <td>40.0</td>\n",
       "      <td>2514.89</td>\n",
       "      <td>282.73</td>\n",
       "      <td>1939.61</td>\n",
       "      <td>2280.54</td>\n",
       "      <td>2544.67</td>\n",
       "      <td>2761.55</td>\n",
       "      <td>3171.49</td>\n",
       "    </tr>\n",
       "  </tbody>\n",
       "</table>\n",
       "</div>"
      ],
      "text/plain": [
       "            count       mean       std       min        25%        50%        75%        max\n",
       "Impression   40.0  120512.41  18807.45  79033.83  112691.97  119291.30  132050.58  158605.92\n",
       "Click        40.0    3967.55    923.10   1836.63    3376.82    3931.36    4660.50    6019.70\n",
       "Purchase     40.0     582.11    161.15    311.63     444.63     551.36     699.86     889.91\n",
       "Earning      40.0    2514.89    282.73   1939.61    2280.54    2544.67    2761.55    3171.49"
      ]
     },
     "execution_count": 20,
     "metadata": {},
     "output_type": "execute_result"
    }
   ],
   "source": [
    "# Test group (Average Bidding)\n",
    "\n",
    "df_test.describe().T"
   ]
  },
  {
   "cell_type": "code",
   "execution_count": null,
   "id": "9e945093-4433-49e6-8e0e-f87a1ff81e1d",
   "metadata": {},
   "outputs": [],
   "source": [
    "#  Purchase values ​​seem to be higher for the test group (Average Bidding). (The final measure of success was that Purchase values ​​were good.)"
   ]
  },
  {
   "cell_type": "code",
   "execution_count": 21,
   "id": "3d6c205e-4408-49b3-9776-8ed372552c2e",
   "metadata": {},
   "outputs": [
    {
     "data": {
      "text/html": [
       "<div>\n",
       "<style scoped>\n",
       "    .dataframe tbody tr th:only-of-type {\n",
       "        vertical-align: middle;\n",
       "    }\n",
       "\n",
       "    .dataframe tbody tr th {\n",
       "        vertical-align: top;\n",
       "    }\n",
       "\n",
       "    .dataframe thead th {\n",
       "        text-align: right;\n",
       "    }\n",
       "</style>\n",
       "<table border=\"1\" class=\"dataframe\">\n",
       "  <thead>\n",
       "    <tr style=\"text-align: right;\">\n",
       "      <th></th>\n",
       "      <th>Impression</th>\n",
       "      <th>Click</th>\n",
       "      <th>Purchase</th>\n",
       "      <th>Earning</th>\n",
       "      <th>Group</th>\n",
       "    </tr>\n",
       "  </thead>\n",
       "  <tbody>\n",
       "    <tr>\n",
       "      <th>0</th>\n",
       "      <td>82529.46</td>\n",
       "      <td>6090.08</td>\n",
       "      <td>665.21</td>\n",
       "      <td>2311.28</td>\n",
       "      <td>control</td>\n",
       "    </tr>\n",
       "    <tr>\n",
       "      <th>1</th>\n",
       "      <td>98050.45</td>\n",
       "      <td>3382.86</td>\n",
       "      <td>315.08</td>\n",
       "      <td>1742.81</td>\n",
       "      <td>control</td>\n",
       "    </tr>\n",
       "    <tr>\n",
       "      <th>2</th>\n",
       "      <td>82696.02</td>\n",
       "      <td>4167.97</td>\n",
       "      <td>458.08</td>\n",
       "      <td>1797.83</td>\n",
       "      <td>control</td>\n",
       "    </tr>\n",
       "    <tr>\n",
       "      <th>3</th>\n",
       "      <td>109914.40</td>\n",
       "      <td>4910.88</td>\n",
       "      <td>487.09</td>\n",
       "      <td>1696.23</td>\n",
       "      <td>control</td>\n",
       "    </tr>\n",
       "    <tr>\n",
       "      <th>4</th>\n",
       "      <td>108457.76</td>\n",
       "      <td>5987.66</td>\n",
       "      <td>441.03</td>\n",
       "      <td>1543.72</td>\n",
       "      <td>control</td>\n",
       "    </tr>\n",
       "    <tr>\n",
       "      <th>...</th>\n",
       "      <td>...</td>\n",
       "      <td>...</td>\n",
       "      <td>...</td>\n",
       "      <td>...</td>\n",
       "      <td>...</td>\n",
       "    </tr>\n",
       "    <tr>\n",
       "      <th>35</th>\n",
       "      <td>79234.91</td>\n",
       "      <td>6002.21</td>\n",
       "      <td>382.05</td>\n",
       "      <td>2277.86</td>\n",
       "      <td>test</td>\n",
       "    </tr>\n",
       "    <tr>\n",
       "      <th>36</th>\n",
       "      <td>130702.24</td>\n",
       "      <td>3626.32</td>\n",
       "      <td>449.82</td>\n",
       "      <td>2530.84</td>\n",
       "      <td>test</td>\n",
       "    </tr>\n",
       "    <tr>\n",
       "      <th>37</th>\n",
       "      <td>116481.87</td>\n",
       "      <td>4702.78</td>\n",
       "      <td>472.45</td>\n",
       "      <td>2597.92</td>\n",
       "      <td>test</td>\n",
       "    </tr>\n",
       "    <tr>\n",
       "      <th>38</th>\n",
       "      <td>79033.83</td>\n",
       "      <td>4495.43</td>\n",
       "      <td>425.36</td>\n",
       "      <td>2595.86</td>\n",
       "      <td>test</td>\n",
       "    </tr>\n",
       "    <tr>\n",
       "      <th>39</th>\n",
       "      <td>102257.45</td>\n",
       "      <td>4800.07</td>\n",
       "      <td>521.31</td>\n",
       "      <td>2967.52</td>\n",
       "      <td>test</td>\n",
       "    </tr>\n",
       "  </tbody>\n",
       "</table>\n",
       "<p>80 rows × 5 columns</p>\n",
       "</div>"
      ],
      "text/plain": [
       "    Impression    Click  Purchase  Earning    Group\n",
       "0     82529.46  6090.08    665.21  2311.28  control\n",
       "1     98050.45  3382.86    315.08  1742.81  control\n",
       "2     82696.02  4167.97    458.08  1797.83  control\n",
       "3    109914.40  4910.88    487.09  1696.23  control\n",
       "4    108457.76  5987.66    441.03  1543.72  control\n",
       "..         ...      ...       ...      ...      ...\n",
       "35    79234.91  6002.21    382.05  2277.86     test\n",
       "36   130702.24  3626.32    449.82  2530.84     test\n",
       "37   116481.87  4702.78    472.45  2597.92     test\n",
       "38    79033.83  4495.43    425.36  2595.86     test\n",
       "39   102257.45  4800.07    521.31  2967.52     test\n",
       "\n",
       "[80 rows x 5 columns]"
      ]
     },
     "execution_count": 21,
     "metadata": {},
     "output_type": "execute_result"
    }
   ],
   "source": [
    "# Adding a group column to the Control and Test group data frames and combining the Control and Test group data.\n",
    "\n",
    "df_control[\"Group\"] = \"control\"\n",
    "df_test[\"Group\"] = \"test\"\n",
    "\n",
    "df = pd.concat([df_control, df_test])\n",
    "df"
   ]
  },
  {
   "cell_type": "code",
   "execution_count": null,
   "id": "feaa1425-73d2-471a-ad33-c25a322580ea",
   "metadata": {},
   "outputs": [],
   "source": [
    "# 1) Defining Hypothesis\n",
    "\n",
    "# Null Hypothesis (H0): M1 = M2:\n",
    "# There is no statistically significant difference between the purchase averages of the Control group (Maximum Bidding) and the Test group (Average Bidding).\n",
    "# (In other words, no significant performance difference was observed between these two bid strategies.)\n",
    "\n",
    "# Alternative Hypothesis (H1): M1 != M2: \n",
    "# There is a statistically significant difference between the purchase averages of the Control group and the Test group.\n",
    "# (In other words, there is a significant performance difference between these two bid strategies.)"
   ]
  },
  {
   "cell_type": "code",
   "execution_count": 24,
   "id": "2fee690a-0625-498e-bcfd-99ad4c39e71e",
   "metadata": {},
   "outputs": [
    {
     "data": {
      "text/html": [
       "<div>\n",
       "<style scoped>\n",
       "    .dataframe tbody tr th:only-of-type {\n",
       "        vertical-align: middle;\n",
       "    }\n",
       "\n",
       "    .dataframe tbody tr th {\n",
       "        vertical-align: top;\n",
       "    }\n",
       "\n",
       "    .dataframe thead th {\n",
       "        text-align: right;\n",
       "    }\n",
       "</style>\n",
       "<table border=\"1\" class=\"dataframe\">\n",
       "  <thead>\n",
       "    <tr style=\"text-align: right;\">\n",
       "      <th></th>\n",
       "      <th>Purchase</th>\n",
       "    </tr>\n",
       "    <tr>\n",
       "      <th>Group</th>\n",
       "      <th></th>\n",
       "    </tr>\n",
       "  </thead>\n",
       "  <tbody>\n",
       "    <tr>\n",
       "      <th>control</th>\n",
       "      <td>550.89</td>\n",
       "    </tr>\n",
       "    <tr>\n",
       "      <th>test</th>\n",
       "      <td>582.11</td>\n",
       "    </tr>\n",
       "  </tbody>\n",
       "</table>\n",
       "</div>"
      ],
      "text/plain": [
       "         Purchase\n",
       "Group            \n",
       "control    550.89\n",
       "test       582.11"
      ]
     },
     "execution_count": 24,
     "metadata": {},
     "output_type": "execute_result"
    }
   ],
   "source": [
    "# Analyzing the purchase averages for the control and test groups.\n",
    "\n",
    "df.groupby(\"Group\").agg({\"Purchase\": \"mean\"})"
   ]
  },
  {
   "cell_type": "code",
   "execution_count": null,
   "id": "f6b9bba4-e3a6-48c6-8a31-4c9efd138440",
   "metadata": {},
   "outputs": [],
   "source": [
    "# The average Purchase value for the test group (Average Bidding) appears higher."
   ]
  },
  {
   "cell_type": "code",
   "execution_count": null,
   "id": "3fb069f2-06e9-4280-8ec4-2470d3fa7ae7",
   "metadata": {},
   "outputs": [],
   "source": [
    "# 2) Assumption Check\n",
    "\n",
    "# - Normality Assumption (Shapiro test)\n",
    "# - Variance Homogeneity Assumption (Levene test)"
   ]
  },
  {
   "cell_type": "code",
   "execution_count": null,
   "id": "f374a3af-dd3d-4fc1-ab30-5dbdc0e6c566",
   "metadata": {},
   "outputs": [],
   "source": [
    "# Separately testing whether the control and test groups comply with the normality assumption using the \"Purchase\" variable.\n",
    "\n",
    "# Normality Assumption\n",
    "\n",
    "# H0: Normal distribution assumption is provided. (The examined data set is suitable for normal distribution.)\n",
    "# H1: Normal distribution assumption is not provided."
   ]
  },
  {
   "cell_type": "code",
   "execution_count": 26,
   "id": "7c9c0f38-182b-4a94-b603-c9f7e1cc5570",
   "metadata": {},
   "outputs": [
    {
     "name": "stdout",
     "output_type": "stream",
     "text": [
      "Test Stat = 0.9773, p-value = 0.5891\n",
      "The p-value is larger than alpha. The distribution is normal (fail to reject H0).\n"
     ]
    }
   ],
   "source": [
    "# Testing whether the distribution of a variable for the Control group is normal with the Shapiro test.\n",
    "\n",
    "test_stat, pvalue = shapiro(df.loc[df[\"Group\"] == \"control\", \"Purchase\"])\n",
    "print('Test Stat = %.4f, p-value = %.4f' % (test_stat, pvalue))\n",
    "\n",
    "alpha = 0.05\n",
    "if pvalue > alpha:\n",
    "    print(\"The p-value is larger than alpha. The distribution is normal (fail to reject H0).\")\n",
    "else:\n",
    "    print(\"The p-value is smaller than alpha. The distribution is not normal (reject H0).\")"
   ]
  },
  {
   "cell_type": "code",
   "execution_count": null,
   "id": "9b6f0fc3-9140-46a6-bba8-575a9642f7f1",
   "metadata": {},
   "outputs": [],
   "source": [
    "# p-value = 0.5891 > 0.05 H0 Cannot be rejected (H0: Normal distribution assumption is met.)"
   ]
  },
  {
   "cell_type": "code",
   "execution_count": 27,
   "id": "635aefca-ba64-4406-b4fb-8f078129c7ca",
   "metadata": {},
   "outputs": [
    {
     "name": "stdout",
     "output_type": "stream",
     "text": [
      "Test Stat = 0.9589, p-value = 0.1541\n",
      "The p-value is larger than alpha. The distribution is normal (fail to reject H0).\n"
     ]
    }
   ],
   "source": [
    "# Testing whether the distribution of a variable for the Test group is normal with the Shapiro test.\n",
    "\n",
    "test_stat, pvalue = shapiro(df.loc[df[\"Group\"] == \"test\", \"Purchase\"])\n",
    "print('Test Stat = %.4f, p-value = %.4f' % (test_stat, pvalue))\n",
    "\n",
    "alpha = 0.05\n",
    "if pvalue > alpha:\n",
    "    print(\"The p-value is larger than alpha. The distribution is normal (fail to reject H0).\")\n",
    "else:\n",
    "    print(\"The p-value is smaller than alpha. The distribution is not normal (reject H0).\")"
   ]
  },
  {
   "cell_type": "code",
   "execution_count": null,
   "id": "0732422a-b4d2-4195-a505-09f16f536b41",
   "metadata": {},
   "outputs": [],
   "source": [
    "# p-value = 0.1541 > 0.05 H0 Cannot be rejected (H0: Normal distribution assumption is met.)\n",
    "\n",
    "# Since the p-value for the Control and Test group is > 0.05, H0 cannot be rejected. \n",
    "# That is, the normal distribution assumption is provided. (The normality assumption condition must be provided for both control and test groups.)"
   ]
  },
  {
   "cell_type": "code",
   "execution_count": null,
   "id": "7d894319-ae9c-47dd-8060-c3552f76ee93",
   "metadata": {},
   "outputs": [],
   "source": [
    "# Variance Homogeneity Assumption\n",
    "\n",
    "# H0: Variances are Homogeneous.\n",
    "# H1: Variances are Not Homogeneous."
   ]
  },
  {
   "cell_type": "code",
   "execution_count": null,
   "id": "9fbf53f8-9273-4fbe-b728-b7b46af9fe69",
   "metadata": {},
   "outputs": [],
   "source": [
    "# Testing whether the variances for the Control and Test groups are homogeneous with the Levene test."
   ]
  },
  {
   "cell_type": "code",
   "execution_count": 30,
   "id": "488366ad-3a63-4a67-af82-3f4ab605c269",
   "metadata": {},
   "outputs": [
    {
     "name": "stdout",
     "output_type": "stream",
     "text": [
      "Test Stat = 2.6393, p-value = 0.1083\n",
      "The p-value is larger than alpha. The distribution is normal (fail to reject H0).\n"
     ]
    }
   ],
   "source": [
    "test_stat, pvalue = levene(df.loc[df[\"Group\"] == \"control\", \"Purchase\"],\n",
    "                           df.loc[df[\"Group\"] == \"test\", \"Purchase\"])\n",
    "\n",
    "print('Test Stat = %.4f, p-value = %.4f' % (test_stat, pvalue)) \n",
    "\n",
    "alpha = 0.05\n",
    "if pvalue > alpha:\n",
    "    print(\"The p-value is larger than alpha. Variances are Homogeneous (fail to reject H0).\")\n",
    "else:\n",
    "    print(\"The p-value is smaller than alpha. Variances are not Homogeneous (reject H0).\")"
   ]
  },
  {
   "cell_type": "code",
   "execution_count": null,
   "id": "cefd8950-d8b6-4a72-80e5-0fc187134292",
   "metadata": {},
   "outputs": [],
   "source": [
    "# p-value = 0.1083 > 0.05 H0 cannot be rejected (H0: Variances are Homogeneous.)\n",
    "\n",
    "# Since the p-value for the Control and Test group is > 0.05, H0 cannot be rejected. That is, Variances are Homogeneous."
   ]
  },
  {
   "cell_type": "code",
   "execution_count": null,
   "id": "37b5154b-bbb7-4aa9-a8db-7d064543011a",
   "metadata": {},
   "outputs": [],
   "source": [
    "# 3) Testing Hypothesis\n",
    "\n",
    "# - If assumptions are met: Independent two-sample t-test (parametric test)\n",
    "# - If assumptions are not met: Mann-Whitney U test (non-parametric test)"
   ]
  },
  {
   "cell_type": "code",
   "execution_count": 32,
   "id": "6fbbabae-5e79-42cf-bf70-c5d9a56ce521",
   "metadata": {},
   "outputs": [
    {
     "name": "stdout",
     "output_type": "stream",
     "text": [
      "Test Stat = -0.9416, p-value = 0.3493\n",
      "The p-value is larger than alpha. We cannot reject the Null Hypothesis.\n"
     ]
    }
   ],
   "source": [
    "# Both the Normality assumption and the Variance Homogeneity assumption are met: Thus applying an independent two-sample t-test (parametric test).\n",
    "\n",
    "test_stat, pvalue = ttest_ind(df.loc[df[\"Group\"] == \"control\", \"Purchase\"],\n",
    "                           df.loc[df[\"Group\"] == \"test\", \"Purchase\"])\n",
    "\n",
    "print('Test Stat = %.4f, p-value = %.4f' % (test_stat, pvalue))\n",
    "\n",
    "\n",
    "alpha = 0.05\n",
    "if pvalue > alpha:\n",
    "    print(\"The p-value is larger than alpha. We cannot reject the Null Hypothesis.\")\n",
    "else:\n",
    "    print(\"The p-value is smaller than alpha. We can reject the Null Hypothesis.\")\n"
   ]
  },
  {
   "cell_type": "code",
   "execution_count": null,
   "id": "57bc6680-40d7-4f00-ac9f-589d6720ec0a",
   "metadata": {},
   "outputs": [],
   "source": [
    "# p-value = 0.3493 > 0.05, thus H0 Cannot be Rejected.\n",
    "\n",
    "# H0: M1 = M2: There is no statistically significant difference between the purchase averages of the Control group (Maximum Bidding) and the Test group (Average Bidding).\n",
    "# No significant performance difference was observed between these two bidding strategies."
   ]
  },
  {
   "cell_type": "code",
   "execution_count": null,
   "id": "461528f7-ff64-4402-abfe-15da5a76c5e0",
   "metadata": {},
   "outputs": [],
   "source": [
    "## Analysis of Results ##"
   ]
  },
  {
   "cell_type": "code",
   "execution_count": null,
   "id": "52c5bb62-5f75-49a3-9924-1f4a58af78d6",
   "metadata": {},
   "outputs": [],
   "source": [
    "# We applied two independent sample t-tests for A/B Testing. (parametric test)\n",
    "\n",
    "# Two prerequisites were also met for the application of this test:\n",
    "# 1) Normality Assumption: It is assumed that the data for both groups have a normal distribution.\n",
    "# 2) Variance Homogeneity Assumption: It is assumed that the variances of the groups are homogeneous (have equal variance). In other words, it is assumed that the data distribution is the same between the groups.\n",
    "\n",
    "# As a result, we cannot reject the H0 hypothesis:\n",
    "# H0: M1 = M2: There is no statistically significant difference between the purchase averages of the Control group (Maximum Bidding) and the Test group (Average Bidding).\n",
    "# In other words, no significant performance difference was observed between the Maximum Bidding and Average Bidding bid strategies. According to this test result, there is no reason for the customer to prefer one bidding method over another.\n",
    "\n",
    "## Recommendations:\n",
    "# A/B Testing was performed for only 80 observations. This number of observations can be increased, and the test can be continued on different groups.\n",
    "# A more comprehensive analysis can be performed by considering other factors.\n",
    "# The Earning metric can also be examined and the impact of different bidding strategies on revenue can be evaluated.\n",
    "# Impression (number of ad views): With an additional analysis on this metric, the impact of 2 bidding strategies on ad performance can be evaluated.\n",
    "# Segmentation Analysis: The reaction of each segment to bidding strategies can be evaluated using the Purchase metric."
   ]
  }
 ],
 "metadata": {
  "kernelspec": {
   "display_name": "Python 3 (ipykernel)",
   "language": "python",
   "name": "python3"
  },
  "language_info": {
   "codemirror_mode": {
    "name": "ipython",
    "version": 3
   },
   "file_extension": ".py",
   "mimetype": "text/x-python",
   "name": "python",
   "nbconvert_exporter": "python",
   "pygments_lexer": "ipython3",
   "version": "3.11.7"
  }
 },
 "nbformat": 4,
 "nbformat_minor": 5
}
